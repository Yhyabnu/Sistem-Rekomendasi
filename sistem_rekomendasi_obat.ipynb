{
  "cells": [
    {
      "cell_type": "markdown",
      "metadata": {
        "id": "Mf5QdNOONWgs"
      },
      "source": [
        "# **Import Library yang digunakan**"
      ]
    },
    {
      "cell_type": "code",
      "execution_count": null,
      "metadata": {
        "id": "1S6_gTRiuHyV"
      },
      "outputs": [],
      "source": [
        "import pandas as pd\n",
        "import numpy as np\n",
        "import matplotlib.pyplot as plt\n",
        "import seaborn as sns\n",
        "from sklearn.feature_extraction.text import TfidfVectorizer\n",
        "from sklearn.metrics.pairwise import cosine_similarity\n",
        "from sklearn.neighbors import NearestNeighbors\n",
        "from sklearn.metrics import calinski_harabasz_score, davies_bouldin_score\n",
        "import warnings\n",
        "warnings.filterwarnings('ignore')"
      ]
    },
    {
      "cell_type": "markdown",
      "metadata": {
        "id": "-WYrYFYppG6X"
      },
      "source": [
        "# **Data Understanding**"
      ]
    },
    {
      "cell_type": "code",
      "execution_count": 2,
      "metadata": {
        "id": "Lh3SJXPnufpA"
      },
      "outputs": [],
      "source": [
        "obat = pd.read_csv('obat.csv', on_bad_lines='skip')\n"
      ]
    },
    {
      "cell_type": "markdown",
      "metadata": {
        "id": "AP8lBxQ4Oiak"
      },
      "source": [
        "membaca 10 kolom pertama dalam data"
      ]
    },
    {
      "cell_type": "code",
      "execution_count": 3,
      "metadata": {
        "colab": {
          "base_uri": "https://localhost:8080/",
          "height": 363
        },
        "id": "2gX4fjkAupko",
        "outputId": "1142e555-6ff3-4c92-cc20-e8e229123525"
      },
      "outputs": [
        {
          "data": {
            "application/vnd.google.colaboratory.intrinsic+json": {
              "summary": "{\n  \"name\": \"obat\",\n  \"rows\": 15000,\n  \"fields\": [\n    {\n      \"column\": \"uniqueID\",\n      \"properties\": {\n        \"dtype\": \"number\",\n        \"std\": 66692,\n        \"min\": 0,\n        \"max\": 232284,\n        \"num_unique_values\": 15000,\n        \"samples\": [\n          73184,\n          170718,\n          141537\n        ],\n        \"semantic_type\": \"\",\n        \"description\": \"\"\n      }\n    },\n    {\n      \"column\": \"drugName\",\n      \"properties\": {\n        \"dtype\": \"category\",\n        \"num_unique_values\": 1756,\n        \"samples\": [\n          \"Phendimetrazine\",\n          \"Janumet\",\n          \"Lacrisert\"\n        ],\n        \"semantic_type\": \"\",\n        \"description\": \"\"\n      }\n    },\n    {\n      \"column\": \"condition\",\n      \"properties\": {\n        \"dtype\": \"category\",\n        \"num_unique_values\": 506,\n        \"samples\": [\n          \"Diarrhea\",\n          \"Keratoconjunctivitis Sicca\",\n          \"Primary Nocturnal Enuresis\"\n        ],\n        \"semantic_type\": \"\",\n        \"description\": \"\"\n      }\n    },\n    {\n      \"column\": \"review\",\n      \"properties\": {\n        \"dtype\": \"string\",\n        \"num_unique_values\": 14579,\n        \"samples\": [\n          \"\\\"I have been on Zoloft for a couple of years. Like many, I read the reviews and was afraid to take it, but having established a good connection with my physician and trusting her judgment, I decided to try it out for a few months. We gradually stepped up the dosage, and I am now on 150mg. It really does work wonders for me. I used to worry constantly and was very irrational about some of these worries. I had severe anxiety over my job, and it was starting to reflect negatively in my performance. Now that I am on Zoloft, I feel much more even-keeled, and I don&#039;t seem to ever be too worried about anything. I can have rational thoughts about things that concern me. It doesn&#039;t work for everyone, but it&#039;s worth a shot if you suffer from anxiety.\\\"\",\n          \"\\\"If you are prescribed Bactrim, take a probiotic with each pill and the side effects usually go away. Probiotics are over the counter. Before I could not take Bactrim or Keflex. Now no problem. I am on Bactrim for boils and taking the probiotic. \\\"\",\n          \"\\\"Today was my 1st day taking to pill. I had energy for about 12 hours and really no urge to eat although I did. I drank plenty of water today, I felt like I had dry mouth. No real bad side effects. I did work out and it help.\\\"\"\n        ],\n        \"semantic_type\": \"\",\n        \"description\": \"\"\n      }\n    },\n    {\n      \"column\": \"rating\",\n      \"properties\": {\n        \"dtype\": \"number\",\n        \"std\": 3,\n        \"min\": 1,\n        \"max\": 10,\n        \"num_unique_values\": 10,\n        \"samples\": [\n          3,\n          8,\n          6\n        ],\n        \"semantic_type\": \"\",\n        \"description\": \"\"\n      }\n    },\n    {\n      \"column\": \"date\",\n      \"properties\": {\n        \"dtype\": \"object\",\n        \"num_unique_values\": 3308,\n        \"samples\": [\n          \"25-Apr-16\",\n          \"16-Nov-15\",\n          \"26-Jul-09\"\n        ],\n        \"semantic_type\": \"\",\n        \"description\": \"\"\n      }\n    },\n    {\n      \"column\": \"usefulCount\",\n      \"properties\": {\n        \"dtype\": \"number\",\n        \"std\": 37,\n        \"min\": 0,\n        \"max\": 949,\n        \"num_unique_values\": 267,\n        \"samples\": [\n          84,\n          24,\n          165\n        ],\n        \"semantic_type\": \"\",\n        \"description\": \"\"\n      }\n    }\n  ]\n}",
              "type": "dataframe",
              "variable_name": "obat"
            },
            "text/html": [
              "\n",
              "  <div id=\"df-bcf4dc98-91d6-4c59-bae3-2ffcb0a6fed0\" class=\"colab-df-container\">\n",
              "    <div>\n",
              "<style scoped>\n",
              "    .dataframe tbody tr th:only-of-type {\n",
              "        vertical-align: middle;\n",
              "    }\n",
              "\n",
              "    .dataframe tbody tr th {\n",
              "        vertical-align: top;\n",
              "    }\n",
              "\n",
              "    .dataframe thead th {\n",
              "        text-align: right;\n",
              "    }\n",
              "</style>\n",
              "<table border=\"1\" class=\"dataframe\">\n",
              "  <thead>\n",
              "    <tr style=\"text-align: right;\">\n",
              "      <th></th>\n",
              "      <th>uniqueID</th>\n",
              "      <th>drugName</th>\n",
              "      <th>condition</th>\n",
              "      <th>review</th>\n",
              "      <th>rating</th>\n",
              "      <th>date</th>\n",
              "      <th>usefulCount</th>\n",
              "    </tr>\n",
              "  </thead>\n",
              "  <tbody>\n",
              "    <tr>\n",
              "      <th>0</th>\n",
              "      <td>192361</td>\n",
              "      <td>Drospirenone / ethinyl estradiol</td>\n",
              "      <td>Birth Control</td>\n",
              "      <td>\"No side effects(nausea, headaches,etc) \\r\\r\\n...</td>\n",
              "      <td>9</td>\n",
              "      <td>5-May-15</td>\n",
              "      <td>3</td>\n",
              "    </tr>\n",
              "    <tr>\n",
              "      <th>1</th>\n",
              "      <td>202481</td>\n",
              "      <td>Lithium</td>\n",
              "      <td>Bipolar Disorde</td>\n",
              "      <td>\"When I originally got sick with insomnia and ...</td>\n",
              "      <td>8</td>\n",
              "      <td>7-Jul-14</td>\n",
              "      <td>33</td>\n",
              "    </tr>\n",
              "    <tr>\n",
              "      <th>2</th>\n",
              "      <td>42681</td>\n",
              "      <td>Concerta</td>\n",
              "      <td>ADHD</td>\n",
              "      <td>\"As an adult with ADHD Concerta is the way to ...</td>\n",
              "      <td>8</td>\n",
              "      <td>9-Aug-09</td>\n",
              "      <td>40</td>\n",
              "    </tr>\n",
              "    <tr>\n",
              "      <th>3</th>\n",
              "      <td>138297</td>\n",
              "      <td>Orthovisc</td>\n",
              "      <td>Osteoarthritis</td>\n",
              "      <td>\"What a waste of money I paid a copay of $400 ...</td>\n",
              "      <td>1</td>\n",
              "      <td>20-Jun-15</td>\n",
              "      <td>21</td>\n",
              "    </tr>\n",
              "    <tr>\n",
              "      <th>4</th>\n",
              "      <td>76754</td>\n",
              "      <td>Lorcaserin</td>\n",
              "      <td>Weight Loss</td>\n",
              "      <td>\"Took first pill yesterday. Noticed almost imm...</td>\n",
              "      <td>1</td>\n",
              "      <td>22-Jun-16</td>\n",
              "      <td>19</td>\n",
              "    </tr>\n",
              "    <tr>\n",
              "      <th>5</th>\n",
              "      <td>156326</td>\n",
              "      <td>Ropinirole</td>\n",
              "      <td>Restless Legs Syndrome</td>\n",
              "      <td>\"Ropinerol works for my jumpy legs, but I had ...</td>\n",
              "      <td>8</td>\n",
              "      <td>13-Jun-15</td>\n",
              "      <td>25</td>\n",
              "    </tr>\n",
              "    <tr>\n",
              "      <th>6</th>\n",
              "      <td>22846</td>\n",
              "      <td>Mestinon</td>\n",
              "      <td>Dysautonomia</td>\n",
              "      <td>\"I&amp;#039;ve been on 30mg of Mestinon two times ...</td>\n",
              "      <td>8</td>\n",
              "      <td>29-Jun-14</td>\n",
              "      <td>9</td>\n",
              "    </tr>\n",
              "    <tr>\n",
              "      <th>7</th>\n",
              "      <td>212257</td>\n",
              "      <td>Lamotrigine</td>\n",
              "      <td>Seizure Prevention</td>\n",
              "      <td>\"I love this medicine. Made it that I didn&amp;#03...</td>\n",
              "      <td>10</td>\n",
              "      <td>27-Mar-12</td>\n",
              "      <td>12</td>\n",
              "    </tr>\n",
              "    <tr>\n",
              "      <th>8</th>\n",
              "      <td>159061</td>\n",
              "      <td>TriNessa</td>\n",
              "      <td>Birth Control</td>\n",
              "      <td>\"I have I have been taking tri ness for only a...</td>\n",
              "      <td>7</td>\n",
              "      <td>18-Jan-16</td>\n",
              "      <td>2</td>\n",
              "    </tr>\n",
              "    <tr>\n",
              "      <th>9</th>\n",
              "      <td>192411</td>\n",
              "      <td>Drospirenone / ethinyl estradiol</td>\n",
              "      <td>Acne</td>\n",
              "      <td>\"I am now on my 5th month of Yaz and I have ze...</td>\n",
              "      <td>10</td>\n",
              "      <td>26-Nov-14</td>\n",
              "      <td>21</td>\n",
              "    </tr>\n",
              "  </tbody>\n",
              "</table>\n",
              "</div>\n",
              "    <div class=\"colab-df-buttons\">\n",
              "\n",
              "  <div class=\"colab-df-container\">\n",
              "    <button class=\"colab-df-convert\" onclick=\"convertToInteractive('df-bcf4dc98-91d6-4c59-bae3-2ffcb0a6fed0')\"\n",
              "            title=\"Convert this dataframe to an interactive table.\"\n",
              "            style=\"display:none;\">\n",
              "\n",
              "  <svg xmlns=\"http://www.w3.org/2000/svg\" height=\"24px\" viewBox=\"0 -960 960 960\">\n",
              "    <path d=\"M120-120v-720h720v720H120Zm60-500h600v-160H180v160Zm220 220h160v-160H400v160Zm0 220h160v-160H400v160ZM180-400h160v-160H180v160Zm440 0h160v-160H620v160ZM180-180h160v-160H180v160Zm440 0h160v-160H620v160Z\"/>\n",
              "  </svg>\n",
              "    </button>\n",
              "\n",
              "  <style>\n",
              "    .colab-df-container {\n",
              "      display:flex;\n",
              "      gap: 12px;\n",
              "    }\n",
              "\n",
              "    .colab-df-convert {\n",
              "      background-color: #E8F0FE;\n",
              "      border: none;\n",
              "      border-radius: 50%;\n",
              "      cursor: pointer;\n",
              "      display: none;\n",
              "      fill: #1967D2;\n",
              "      height: 32px;\n",
              "      padding: 0 0 0 0;\n",
              "      width: 32px;\n",
              "    }\n",
              "\n",
              "    .colab-df-convert:hover {\n",
              "      background-color: #E2EBFA;\n",
              "      box-shadow: 0px 1px 2px rgba(60, 64, 67, 0.3), 0px 1px 3px 1px rgba(60, 64, 67, 0.15);\n",
              "      fill: #174EA6;\n",
              "    }\n",
              "\n",
              "    .colab-df-buttons div {\n",
              "      margin-bottom: 4px;\n",
              "    }\n",
              "\n",
              "    [theme=dark] .colab-df-convert {\n",
              "      background-color: #3B4455;\n",
              "      fill: #D2E3FC;\n",
              "    }\n",
              "\n",
              "    [theme=dark] .colab-df-convert:hover {\n",
              "      background-color: #434B5C;\n",
              "      box-shadow: 0px 1px 3px 1px rgba(0, 0, 0, 0.15);\n",
              "      filter: drop-shadow(0px 1px 2px rgba(0, 0, 0, 0.3));\n",
              "      fill: #FFFFFF;\n",
              "    }\n",
              "  </style>\n",
              "\n",
              "    <script>\n",
              "      const buttonEl =\n",
              "        document.querySelector('#df-bcf4dc98-91d6-4c59-bae3-2ffcb0a6fed0 button.colab-df-convert');\n",
              "      buttonEl.style.display =\n",
              "        google.colab.kernel.accessAllowed ? 'block' : 'none';\n",
              "\n",
              "      async function convertToInteractive(key) {\n",
              "        const element = document.querySelector('#df-bcf4dc98-91d6-4c59-bae3-2ffcb0a6fed0');\n",
              "        const dataTable =\n",
              "          await google.colab.kernel.invokeFunction('convertToInteractive',\n",
              "                                                    [key], {});\n",
              "        if (!dataTable) return;\n",
              "\n",
              "        const docLinkHtml = 'Like what you see? Visit the ' +\n",
              "          '<a target=\"_blank\" href=https://colab.research.google.com/notebooks/data_table.ipynb>data table notebook</a>'\n",
              "          + ' to learn more about interactive tables.';\n",
              "        element.innerHTML = '';\n",
              "        dataTable['output_type'] = 'display_data';\n",
              "        await google.colab.output.renderOutput(dataTable, element);\n",
              "        const docLink = document.createElement('div');\n",
              "        docLink.innerHTML = docLinkHtml;\n",
              "        element.appendChild(docLink);\n",
              "      }\n",
              "    </script>\n",
              "  </div>\n",
              "\n",
              "\n",
              "    <div id=\"df-de4161c1-6dca-459c-94b8-d0845fc2a592\">\n",
              "      <button class=\"colab-df-quickchart\" onclick=\"quickchart('df-de4161c1-6dca-459c-94b8-d0845fc2a592')\"\n",
              "                title=\"Suggest charts\"\n",
              "                style=\"display:none;\">\n",
              "\n",
              "<svg xmlns=\"http://www.w3.org/2000/svg\" height=\"24px\"viewBox=\"0 0 24 24\"\n",
              "     width=\"24px\">\n",
              "    <g>\n",
              "        <path d=\"M19 3H5c-1.1 0-2 .9-2 2v14c0 1.1.9 2 2 2h14c1.1 0 2-.9 2-2V5c0-1.1-.9-2-2-2zM9 17H7v-7h2v7zm4 0h-2V7h2v10zm4 0h-2v-4h2v4z\"/>\n",
              "    </g>\n",
              "</svg>\n",
              "      </button>\n",
              "\n",
              "<style>\n",
              "  .colab-df-quickchart {\n",
              "      --bg-color: #E8F0FE;\n",
              "      --fill-color: #1967D2;\n",
              "      --hover-bg-color: #E2EBFA;\n",
              "      --hover-fill-color: #174EA6;\n",
              "      --disabled-fill-color: #AAA;\n",
              "      --disabled-bg-color: #DDD;\n",
              "  }\n",
              "\n",
              "  [theme=dark] .colab-df-quickchart {\n",
              "      --bg-color: #3B4455;\n",
              "      --fill-color: #D2E3FC;\n",
              "      --hover-bg-color: #434B5C;\n",
              "      --hover-fill-color: #FFFFFF;\n",
              "      --disabled-bg-color: #3B4455;\n",
              "      --disabled-fill-color: #666;\n",
              "  }\n",
              "\n",
              "  .colab-df-quickchart {\n",
              "    background-color: var(--bg-color);\n",
              "    border: none;\n",
              "    border-radius: 50%;\n",
              "    cursor: pointer;\n",
              "    display: none;\n",
              "    fill: var(--fill-color);\n",
              "    height: 32px;\n",
              "    padding: 0;\n",
              "    width: 32px;\n",
              "  }\n",
              "\n",
              "  .colab-df-quickchart:hover {\n",
              "    background-color: var(--hover-bg-color);\n",
              "    box-shadow: 0 1px 2px rgba(60, 64, 67, 0.3), 0 1px 3px 1px rgba(60, 64, 67, 0.15);\n",
              "    fill: var(--button-hover-fill-color);\n",
              "  }\n",
              "\n",
              "  .colab-df-quickchart-complete:disabled,\n",
              "  .colab-df-quickchart-complete:disabled:hover {\n",
              "    background-color: var(--disabled-bg-color);\n",
              "    fill: var(--disabled-fill-color);\n",
              "    box-shadow: none;\n",
              "  }\n",
              "\n",
              "  .colab-df-spinner {\n",
              "    border: 2px solid var(--fill-color);\n",
              "    border-color: transparent;\n",
              "    border-bottom-color: var(--fill-color);\n",
              "    animation:\n",
              "      spin 1s steps(1) infinite;\n",
              "  }\n",
              "\n",
              "  @keyframes spin {\n",
              "    0% {\n",
              "      border-color: transparent;\n",
              "      border-bottom-color: var(--fill-color);\n",
              "      border-left-color: var(--fill-color);\n",
              "    }\n",
              "    20% {\n",
              "      border-color: transparent;\n",
              "      border-left-color: var(--fill-color);\n",
              "      border-top-color: var(--fill-color);\n",
              "    }\n",
              "    30% {\n",
              "      border-color: transparent;\n",
              "      border-left-color: var(--fill-color);\n",
              "      border-top-color: var(--fill-color);\n",
              "      border-right-color: var(--fill-color);\n",
              "    }\n",
              "    40% {\n",
              "      border-color: transparent;\n",
              "      border-right-color: var(--fill-color);\n",
              "      border-top-color: var(--fill-color);\n",
              "    }\n",
              "    60% {\n",
              "      border-color: transparent;\n",
              "      border-right-color: var(--fill-color);\n",
              "    }\n",
              "    80% {\n",
              "      border-color: transparent;\n",
              "      border-right-color: var(--fill-color);\n",
              "      border-bottom-color: var(--fill-color);\n",
              "    }\n",
              "    90% {\n",
              "      border-color: transparent;\n",
              "      border-bottom-color: var(--fill-color);\n",
              "    }\n",
              "  }\n",
              "</style>\n",
              "\n",
              "      <script>\n",
              "        async function quickchart(key) {\n",
              "          const quickchartButtonEl =\n",
              "            document.querySelector('#' + key + ' button');\n",
              "          quickchartButtonEl.disabled = true;  // To prevent multiple clicks.\n",
              "          quickchartButtonEl.classList.add('colab-df-spinner');\n",
              "          try {\n",
              "            const charts = await google.colab.kernel.invokeFunction(\n",
              "                'suggestCharts', [key], {});\n",
              "          } catch (error) {\n",
              "            console.error('Error during call to suggestCharts:', error);\n",
              "          }\n",
              "          quickchartButtonEl.classList.remove('colab-df-spinner');\n",
              "          quickchartButtonEl.classList.add('colab-df-quickchart-complete');\n",
              "        }\n",
              "        (() => {\n",
              "          let quickchartButtonEl =\n",
              "            document.querySelector('#df-de4161c1-6dca-459c-94b8-d0845fc2a592 button');\n",
              "          quickchartButtonEl.style.display =\n",
              "            google.colab.kernel.accessAllowed ? 'block' : 'none';\n",
              "        })();\n",
              "      </script>\n",
              "    </div>\n",
              "\n",
              "    </div>\n",
              "  </div>\n"
            ],
            "text/plain": [
              "   uniqueID                          drugName               condition  \\\n",
              "0    192361  Drospirenone / ethinyl estradiol           Birth Control   \n",
              "1    202481                           Lithium         Bipolar Disorde   \n",
              "2     42681                          Concerta                    ADHD   \n",
              "3    138297                         Orthovisc          Osteoarthritis   \n",
              "4     76754                        Lorcaserin             Weight Loss   \n",
              "5    156326                        Ropinirole  Restless Legs Syndrome   \n",
              "6     22846                          Mestinon            Dysautonomia   \n",
              "7    212257                       Lamotrigine      Seizure Prevention   \n",
              "8    159061                          TriNessa           Birth Control   \n",
              "9    192411  Drospirenone / ethinyl estradiol                    Acne   \n",
              "\n",
              "                                              review  rating       date  \\\n",
              "0  \"No side effects(nausea, headaches,etc) \\r\\r\\n...       9   5-May-15   \n",
              "1  \"When I originally got sick with insomnia and ...       8   7-Jul-14   \n",
              "2  \"As an adult with ADHD Concerta is the way to ...       8   9-Aug-09   \n",
              "3  \"What a waste of money I paid a copay of $400 ...       1  20-Jun-15   \n",
              "4  \"Took first pill yesterday. Noticed almost imm...       1  22-Jun-16   \n",
              "5  \"Ropinerol works for my jumpy legs, but I had ...       8  13-Jun-15   \n",
              "6  \"I&#039;ve been on 30mg of Mestinon two times ...       8  29-Jun-14   \n",
              "7  \"I love this medicine. Made it that I didn&#03...      10  27-Mar-12   \n",
              "8  \"I have I have been taking tri ness for only a...       7  18-Jan-16   \n",
              "9  \"I am now on my 5th month of Yaz and I have ze...      10  26-Nov-14   \n",
              "\n",
              "   usefulCount  \n",
              "0            3  \n",
              "1           33  \n",
              "2           40  \n",
              "3           21  \n",
              "4           19  \n",
              "5           25  \n",
              "6            9  \n",
              "7           12  \n",
              "8            2  \n",
              "9           21  "
            ]
          },
          "execution_count": 3,
          "metadata": {},
          "output_type": "execute_result"
        }
      ],
      "source": [
        "obat.head(10)"
      ]
    },
    {
      "cell_type": "markdown",
      "metadata": {
        "id": "11RmQnfROOhl"
      },
      "source": [
        "menampilkan informasi data obat, merujuk pada jumlah data dan type data yang diguakan"
      ]
    },
    {
      "cell_type": "code",
      "execution_count": 4,
      "metadata": {
        "colab": {
          "base_uri": "https://localhost:8080/"
        },
        "id": "Mna2ObQFzULa",
        "outputId": "5e7f76af-e049-43a5-a452-c79794ab5be3"
      },
      "outputs": [
        {
          "name": "stdout",
          "output_type": "stream",
          "text": [
            "<class 'pandas.core.frame.DataFrame'>\n",
            "RangeIndex: 15000 entries, 0 to 14999\n",
            "Data columns (total 7 columns):\n",
            " #   Column       Non-Null Count  Dtype \n",
            "---  ------       --------------  ----- \n",
            " 0   uniqueID     15000 non-null  int64 \n",
            " 1   drugName     15000 non-null  object\n",
            " 2   condition    14919 non-null  object\n",
            " 3   review       15000 non-null  object\n",
            " 4   rating       15000 non-null  int64 \n",
            " 5   date         15000 non-null  object\n",
            " 6   usefulCount  15000 non-null  int64 \n",
            "dtypes: int64(3), object(4)\n",
            "memory usage: 820.4+ KB\n"
          ]
        }
      ],
      "source": [
        "obat.info()"
      ]
    },
    {
      "cell_type": "markdown",
      "metadata": {
        "id": "OQ7sGFkBP0jO"
      },
      "source": [
        "---\n",
        "**obat.describe** digunakan untuk menampilkan statistik deskriptif dari sebuah dataset berupa distribusi data numerik, termasuk ukuran pemusatan, dispersi, dan bentuk distribusi"
      ]
    },
    {
      "cell_type": "code",
      "execution_count": 5,
      "metadata": {
        "colab": {
          "base_uri": "https://localhost:8080/",
          "height": 300
        },
        "id": "nnFBHhBrz4l1",
        "outputId": "6014869f-3300-47dd-feb6-e558029349fd"
      },
      "outputs": [
        {
          "data": {
            "application/vnd.google.colaboratory.intrinsic+json": {
              "summary": "{\n  \"name\": \"obat\",\n  \"rows\": 8,\n  \"fields\": [\n    {\n      \"column\": \"uniqueID\",\n      \"properties\": {\n        \"dtype\": \"string\",\n        \"num_unique_values\": 8,\n        \"samples\": [\n          \"116168.49\",\n          \"116385.50\",\n          \"15000.00\"\n        ],\n        \"semantic_type\": \"\",\n        \"description\": \"\"\n      }\n    },\n    {\n      \"column\": \"rating\",\n      \"properties\": {\n        \"dtype\": \"string\",\n        \"num_unique_values\": 7,\n        \"samples\": [\n          \"15000.00\",\n          \"6.96\",\n          \"8.00\"\n        ],\n        \"semantic_type\": \"\",\n        \"description\": \"\"\n      }\n    },\n    {\n      \"column\": \"usefulCount\",\n      \"properties\": {\n        \"dtype\": \"string\",\n        \"num_unique_values\": 8,\n        \"samples\": [\n          \"28.38\",\n          \"16.00\",\n          \"15000.00\"\n        ],\n        \"semantic_type\": \"\",\n        \"description\": \"\"\n      }\n    }\n  ]\n}",
              "type": "dataframe"
            },
            "text/html": [
              "\n",
              "  <div id=\"df-6f124555-4bbc-40ed-af03-a1a690aef438\" class=\"colab-df-container\">\n",
              "    <div>\n",
              "<style scoped>\n",
              "    .dataframe tbody tr th:only-of-type {\n",
              "        vertical-align: middle;\n",
              "    }\n",
              "\n",
              "    .dataframe tbody tr th {\n",
              "        vertical-align: top;\n",
              "    }\n",
              "\n",
              "    .dataframe thead th {\n",
              "        text-align: right;\n",
              "    }\n",
              "</style>\n",
              "<table border=\"1\" class=\"dataframe\">\n",
              "  <thead>\n",
              "    <tr style=\"text-align: right;\">\n",
              "      <th></th>\n",
              "      <th>uniqueID</th>\n",
              "      <th>rating</th>\n",
              "      <th>usefulCount</th>\n",
              "    </tr>\n",
              "  </thead>\n",
              "  <tbody>\n",
              "    <tr>\n",
              "      <th>count</th>\n",
              "      <td>15000.00</td>\n",
              "      <td>15000.00</td>\n",
              "      <td>15000.00</td>\n",
              "    </tr>\n",
              "    <tr>\n",
              "      <th>mean</th>\n",
              "      <td>116168.49</td>\n",
              "      <td>6.96</td>\n",
              "      <td>28.38</td>\n",
              "    </tr>\n",
              "    <tr>\n",
              "      <th>std</th>\n",
              "      <td>66692.51</td>\n",
              "      <td>3.29</td>\n",
              "      <td>37.51</td>\n",
              "    </tr>\n",
              "    <tr>\n",
              "      <th>min</th>\n",
              "      <td>0.00</td>\n",
              "      <td>1.00</td>\n",
              "      <td>0.00</td>\n",
              "    </tr>\n",
              "    <tr>\n",
              "      <th>25%</th>\n",
              "      <td>58363.00</td>\n",
              "      <td>4.00</td>\n",
              "      <td>6.00</td>\n",
              "    </tr>\n",
              "    <tr>\n",
              "      <th>50%</th>\n",
              "      <td>116385.50</td>\n",
              "      <td>8.00</td>\n",
              "      <td>16.00</td>\n",
              "    </tr>\n",
              "    <tr>\n",
              "      <th>75%</th>\n",
              "      <td>174071.50</td>\n",
              "      <td>10.00</td>\n",
              "      <td>36.00</td>\n",
              "    </tr>\n",
              "    <tr>\n",
              "      <th>max</th>\n",
              "      <td>232284.00</td>\n",
              "      <td>10.00</td>\n",
              "      <td>949.00</td>\n",
              "    </tr>\n",
              "  </tbody>\n",
              "</table>\n",
              "</div>\n",
              "    <div class=\"colab-df-buttons\">\n",
              "\n",
              "  <div class=\"colab-df-container\">\n",
              "    <button class=\"colab-df-convert\" onclick=\"convertToInteractive('df-6f124555-4bbc-40ed-af03-a1a690aef438')\"\n",
              "            title=\"Convert this dataframe to an interactive table.\"\n",
              "            style=\"display:none;\">\n",
              "\n",
              "  <svg xmlns=\"http://www.w3.org/2000/svg\" height=\"24px\" viewBox=\"0 -960 960 960\">\n",
              "    <path d=\"M120-120v-720h720v720H120Zm60-500h600v-160H180v160Zm220 220h160v-160H400v160Zm0 220h160v-160H400v160ZM180-400h160v-160H180v160Zm440 0h160v-160H620v160ZM180-180h160v-160H180v160Zm440 0h160v-160H620v160Z\"/>\n",
              "  </svg>\n",
              "    </button>\n",
              "\n",
              "  <style>\n",
              "    .colab-df-container {\n",
              "      display:flex;\n",
              "      gap: 12px;\n",
              "    }\n",
              "\n",
              "    .colab-df-convert {\n",
              "      background-color: #E8F0FE;\n",
              "      border: none;\n",
              "      border-radius: 50%;\n",
              "      cursor: pointer;\n",
              "      display: none;\n",
              "      fill: #1967D2;\n",
              "      height: 32px;\n",
              "      padding: 0 0 0 0;\n",
              "      width: 32px;\n",
              "    }\n",
              "\n",
              "    .colab-df-convert:hover {\n",
              "      background-color: #E2EBFA;\n",
              "      box-shadow: 0px 1px 2px rgba(60, 64, 67, 0.3), 0px 1px 3px 1px rgba(60, 64, 67, 0.15);\n",
              "      fill: #174EA6;\n",
              "    }\n",
              "\n",
              "    .colab-df-buttons div {\n",
              "      margin-bottom: 4px;\n",
              "    }\n",
              "\n",
              "    [theme=dark] .colab-df-convert {\n",
              "      background-color: #3B4455;\n",
              "      fill: #D2E3FC;\n",
              "    }\n",
              "\n",
              "    [theme=dark] .colab-df-convert:hover {\n",
              "      background-color: #434B5C;\n",
              "      box-shadow: 0px 1px 3px 1px rgba(0, 0, 0, 0.15);\n",
              "      filter: drop-shadow(0px 1px 2px rgba(0, 0, 0, 0.3));\n",
              "      fill: #FFFFFF;\n",
              "    }\n",
              "  </style>\n",
              "\n",
              "    <script>\n",
              "      const buttonEl =\n",
              "        document.querySelector('#df-6f124555-4bbc-40ed-af03-a1a690aef438 button.colab-df-convert');\n",
              "      buttonEl.style.display =\n",
              "        google.colab.kernel.accessAllowed ? 'block' : 'none';\n",
              "\n",
              "      async function convertToInteractive(key) {\n",
              "        const element = document.querySelector('#df-6f124555-4bbc-40ed-af03-a1a690aef438');\n",
              "        const dataTable =\n",
              "          await google.colab.kernel.invokeFunction('convertToInteractive',\n",
              "                                                    [key], {});\n",
              "        if (!dataTable) return;\n",
              "\n",
              "        const docLinkHtml = 'Like what you see? Visit the ' +\n",
              "          '<a target=\"_blank\" href=https://colab.research.google.com/notebooks/data_table.ipynb>data table notebook</a>'\n",
              "          + ' to learn more about interactive tables.';\n",
              "        element.innerHTML = '';\n",
              "        dataTable['output_type'] = 'display_data';\n",
              "        await google.colab.output.renderOutput(dataTable, element);\n",
              "        const docLink = document.createElement('div');\n",
              "        docLink.innerHTML = docLinkHtml;\n",
              "        element.appendChild(docLink);\n",
              "      }\n",
              "    </script>\n",
              "  </div>\n",
              "\n",
              "\n",
              "    <div id=\"df-ed377443-09b6-41eb-a189-350cc6e06d28\">\n",
              "      <button class=\"colab-df-quickchart\" onclick=\"quickchart('df-ed377443-09b6-41eb-a189-350cc6e06d28')\"\n",
              "                title=\"Suggest charts\"\n",
              "                style=\"display:none;\">\n",
              "\n",
              "<svg xmlns=\"http://www.w3.org/2000/svg\" height=\"24px\"viewBox=\"0 0 24 24\"\n",
              "     width=\"24px\">\n",
              "    <g>\n",
              "        <path d=\"M19 3H5c-1.1 0-2 .9-2 2v14c0 1.1.9 2 2 2h14c1.1 0 2-.9 2-2V5c0-1.1-.9-2-2-2zM9 17H7v-7h2v7zm4 0h-2V7h2v10zm4 0h-2v-4h2v4z\"/>\n",
              "    </g>\n",
              "</svg>\n",
              "      </button>\n",
              "\n",
              "<style>\n",
              "  .colab-df-quickchart {\n",
              "      --bg-color: #E8F0FE;\n",
              "      --fill-color: #1967D2;\n",
              "      --hover-bg-color: #E2EBFA;\n",
              "      --hover-fill-color: #174EA6;\n",
              "      --disabled-fill-color: #AAA;\n",
              "      --disabled-bg-color: #DDD;\n",
              "  }\n",
              "\n",
              "  [theme=dark] .colab-df-quickchart {\n",
              "      --bg-color: #3B4455;\n",
              "      --fill-color: #D2E3FC;\n",
              "      --hover-bg-color: #434B5C;\n",
              "      --hover-fill-color: #FFFFFF;\n",
              "      --disabled-bg-color: #3B4455;\n",
              "      --disabled-fill-color: #666;\n",
              "  }\n",
              "\n",
              "  .colab-df-quickchart {\n",
              "    background-color: var(--bg-color);\n",
              "    border: none;\n",
              "    border-radius: 50%;\n",
              "    cursor: pointer;\n",
              "    display: none;\n",
              "    fill: var(--fill-color);\n",
              "    height: 32px;\n",
              "    padding: 0;\n",
              "    width: 32px;\n",
              "  }\n",
              "\n",
              "  .colab-df-quickchart:hover {\n",
              "    background-color: var(--hover-bg-color);\n",
              "    box-shadow: 0 1px 2px rgba(60, 64, 67, 0.3), 0 1px 3px 1px rgba(60, 64, 67, 0.15);\n",
              "    fill: var(--button-hover-fill-color);\n",
              "  }\n",
              "\n",
              "  .colab-df-quickchart-complete:disabled,\n",
              "  .colab-df-quickchart-complete:disabled:hover {\n",
              "    background-color: var(--disabled-bg-color);\n",
              "    fill: var(--disabled-fill-color);\n",
              "    box-shadow: none;\n",
              "  }\n",
              "\n",
              "  .colab-df-spinner {\n",
              "    border: 2px solid var(--fill-color);\n",
              "    border-color: transparent;\n",
              "    border-bottom-color: var(--fill-color);\n",
              "    animation:\n",
              "      spin 1s steps(1) infinite;\n",
              "  }\n",
              "\n",
              "  @keyframes spin {\n",
              "    0% {\n",
              "      border-color: transparent;\n",
              "      border-bottom-color: var(--fill-color);\n",
              "      border-left-color: var(--fill-color);\n",
              "    }\n",
              "    20% {\n",
              "      border-color: transparent;\n",
              "      border-left-color: var(--fill-color);\n",
              "      border-top-color: var(--fill-color);\n",
              "    }\n",
              "    30% {\n",
              "      border-color: transparent;\n",
              "      border-left-color: var(--fill-color);\n",
              "      border-top-color: var(--fill-color);\n",
              "      border-right-color: var(--fill-color);\n",
              "    }\n",
              "    40% {\n",
              "      border-color: transparent;\n",
              "      border-right-color: var(--fill-color);\n",
              "      border-top-color: var(--fill-color);\n",
              "    }\n",
              "    60% {\n",
              "      border-color: transparent;\n",
              "      border-right-color: var(--fill-color);\n",
              "    }\n",
              "    80% {\n",
              "      border-color: transparent;\n",
              "      border-right-color: var(--fill-color);\n",
              "      border-bottom-color: var(--fill-color);\n",
              "    }\n",
              "    90% {\n",
              "      border-color: transparent;\n",
              "      border-bottom-color: var(--fill-color);\n",
              "    }\n",
              "  }\n",
              "</style>\n",
              "\n",
              "      <script>\n",
              "        async function quickchart(key) {\n",
              "          const quickchartButtonEl =\n",
              "            document.querySelector('#' + key + ' button');\n",
              "          quickchartButtonEl.disabled = true;  // To prevent multiple clicks.\n",
              "          quickchartButtonEl.classList.add('colab-df-spinner');\n",
              "          try {\n",
              "            const charts = await google.colab.kernel.invokeFunction(\n",
              "                'suggestCharts', [key], {});\n",
              "          } catch (error) {\n",
              "            console.error('Error during call to suggestCharts:', error);\n",
              "          }\n",
              "          quickchartButtonEl.classList.remove('colab-df-spinner');\n",
              "          quickchartButtonEl.classList.add('colab-df-quickchart-complete');\n",
              "        }\n",
              "        (() => {\n",
              "          let quickchartButtonEl =\n",
              "            document.querySelector('#df-ed377443-09b6-41eb-a189-350cc6e06d28 button');\n",
              "          quickchartButtonEl.style.display =\n",
              "            google.colab.kernel.accessAllowed ? 'block' : 'none';\n",
              "        })();\n",
              "      </script>\n",
              "    </div>\n",
              "\n",
              "    </div>\n",
              "  </div>\n"
            ],
            "text/plain": [
              "        uniqueID    rating usefulCount\n",
              "count   15000.00  15000.00    15000.00\n",
              "mean   116168.49      6.96       28.38\n",
              "std     66692.51      3.29       37.51\n",
              "min         0.00      1.00        0.00\n",
              "25%     58363.00      4.00        6.00\n",
              "50%    116385.50      8.00       16.00\n",
              "75%    174071.50     10.00       36.00\n",
              "max    232284.00     10.00      949.00"
            ]
          },
          "execution_count": 5,
          "metadata": {},
          "output_type": "execute_result"
        }
      ],
      "source": [
        "obat.describe().apply(lambda s: s.apply('{0:.2f}'.format))"
      ]
    },
    {
      "cell_type": "markdown",
      "metadata": {
        "id": "cK1LWqFYQg48"
      },
      "source": [
        "Dataset obat memiliki rating terendah 1 dan rating tertinggi 10 dengan rata-rata 6.96. Dataset ini juga memiliki jumlah kegunaan terendah 0 dan terbanyak 949 dengan rata-rata 28.38.\n",
        "\n",
        "\n",
        "---\n",
        "\n"
      ]
    },
    {
      "cell_type": "markdown",
      "metadata": {
        "id": "TdQCCmycOmbz"
      },
      "source": [
        "obat.shape digunakan untuk menampilan hasil berupa banyaknya jumlah baris data dan kolom yang ada dalam dataset obat.csv"
      ]
    },
    {
      "cell_type": "code",
      "execution_count": 6,
      "metadata": {
        "colab": {
          "base_uri": "https://localhost:8080/"
        },
        "id": "U_Iz-xbevWdv",
        "outputId": "188fdb4d-b9c3-448a-fc4c-c541082655e9"
      },
      "outputs": [
        {
          "data": {
            "text/plain": [
              "(15000, 7)"
            ]
          },
          "execution_count": 6,
          "metadata": {},
          "output_type": "execute_result"
        }
      ],
      "source": [
        "obat.shape"
      ]
    },
    {
      "cell_type": "code",
      "execution_count": 7,
      "metadata": {
        "colab": {
          "base_uri": "https://localhost:8080/"
        },
        "id": "miUUI7Dwvfgt",
        "outputId": "ac7bb8c9-a0eb-4ebe-a250-6a508764350c"
      },
      "outputs": [
        {
          "name": "stdout",
          "output_type": "stream",
          "text": [
            "Jumlah UniqueID Obat:  15000\n",
            "Jumlah Nama obat:  1756\n",
            "Jumlah Kondisi:  507\n",
            "Jumlah Review Obat:  14579\n",
            "Jumlah Rating Obat:  10\n",
            "Jumlah Kegunaan obat:  267\n"
          ]
        }
      ],
      "source": [
        "print('Jumlah UniqueID Obat: ', len(obat.uniqueID.unique()))\n",
        "print('Jumlah Nama obat: ', len(obat.drugName.unique()))\n",
        "print('Jumlah Kondisi: ', len(obat.condition.unique()))\n",
        "print('Jumlah Review Obat: ', len(obat.review.unique()))\n",
        "print('Jumlah Rating Obat: ', len(obat.rating.unique()))\n",
        "print('Jumlah Kegunaan obat: ', len(obat.usefulCount.unique()))"
      ]
    },
    {
      "cell_type": "code",
      "execution_count": 8,
      "metadata": {
        "colab": {
          "base_uri": "https://localhost:8080/"
        },
        "id": "HAZDm84gwQPI",
        "outputId": "4d4934c7-915f-4b67-871e-d69a1b78d075"
      },
      "outputs": [
        {
          "name": "stdout",
          "output_type": "stream",
          "text": [
            "Jenis Obat:  ['Drospirenone / ethinyl estradiol' 'Lithium' 'Concerta' ... 'SMZ-TMP DS'\n",
            " 'Rhofade' 'Sporanox']\n"
          ]
        }
      ],
      "source": [
        "print('Jenis Obat: ', (obat.drugName.unique()))"
      ]
    },
    {
      "cell_type": "code",
      "execution_count": 9,
      "metadata": {
        "colab": {
          "base_uri": "https://localhost:8080/"
        },
        "collapsed": true,
        "id": "2KksNLqjyJYE",
        "outputId": "042e2f3b-3e16-49e0-db3c-8a4143498689"
      },
      "outputs": [
        {
          "name": "stdout",
          "output_type": "stream",
          "text": [
            "kondisi:  ['Birth Control' 'Bipolar Disorde' 'ADHD' 'Osteoarthritis' 'Weight Loss'\n",
            " 'Restless Legs Syndrome' 'Dysautonomia' 'Seizure Prevention' 'Acne'\n",
            " 'Pain' 'Non-Small Cell Lung Cance' 'Asthma' 'Neuralgia' 'Insomnia'\n",
            " 'Muscle Spasm' 'Bacterial Vaginitis' 'Alcohol Dependence'\n",
            " 'Menstrual Disorders' 'Panic Disorde' 'Major Depressive Disorde'\n",
            " 'Bronchitis' 'Urinary Tract Infection' 'Anxiety' 'Arrhythmia'\n",
            " 'Deep Vein Thrombosis, First Event' 'Abnormal Uterine Bleeding'\n",
            " 'High Blood Pressure' 'Obesity' 'Overactive Bladde' 'Anxiety and Stress'\n",
            " 'Diabetes, Type 2' 'Erosive Esophagitis' 'Burning Mouth Syndrome' 'Cough'\n",
            " 'Chlamydia Infection' 'Migraine Prevention'\n",
            " 'Obsessive Compulsive Disorde' 'Schizoaffective Disorde' 'Rosacea'\n",
            " 'Nausea/Vomiting' 'Helicobacter Pylori Infection' 'Cerebral Edema'\n",
            " 'Atrophic Urethritis' 'Opiate Withdrawal' 'Hepatitis C' 'Anemia'\n",
            " 'Constipation' 'Bacterial Infection' 'Depression' 'Not Listed / Othe'\n",
            " 'Osteoporosis' 'Peripheral Neuropathy' 'Trichomoniasis' 'Breast Cance'\n",
            " 'Sinusitis' 'Opiate Dependence' 'Skin or Soft Tissue Infection'\n",
            " 'High Cholesterol' 'GERD' 'Bladder Infection'\n",
            " 'Generalized Anxiety Disorde' 'Underactive Thyroid' 'Influenza'\n",
            " \"Meniere's Disease\" 'Dermatological Disorders'\n",
            " 'Borderline Personality Disorde' 'Migraine' 'Premature Lab'\n",
            " 'Multiple Sclerosis' 'Constipation, Acute' 'Emergency Contraception'\n",
            " 'Gallbladder Disease' 'Neuropathic Pain' 'Irritable Bowel Syndrome'\n",
            " 'Bowel Preparation' 'Allergic Rhinitis' 'Post Traumatic Stress Disorde'\n",
            " '0</span> users found this comment helpful.' 'Smoking Cessation'\n",
            " 'Alcohol Withdrawal' 'Dietary Supplementation' 'Asthma, Maintenance'\n",
            " 'Psoriasis' 'HIV Infection' 'Hyperhidrosis' 'emale Infertility'\n",
            " 'Allergies' 'ibromyalgia' 'Strep Throat' 'Premenstrual Dysphoric Disorde'\n",
            " 'Hepatic Encephalopathy' 'Ankylosing Spondylitis'\n",
            " 'Temporomandibular Joint Disorde' 'Ovarian Cysts'\n",
            " 'Constipation, Drug Induced' nan 'Diabetes, Type 1'\n",
            " 'Vaginal Yeast Infection' 'Acute Coronary Syndrome'\n",
            " 'Clostridial Infection' 'Benign Prostatic Hyperplasia'\n",
            " \"Raynaud's Syndrome\" 'Epilepsy' 'Chronic Pain' 'Social Anxiety Disorde'\n",
            " 'Juvenile Idiopathic Arthritis' 'Schizophrenia' 'Alopecia'\n",
            " 'Ulcerative Colitis' 'Chronic Myelogenous Leukemia' 'Urticaria'\n",
            " 'Urinary Incontinence' 'Urinary Tract Stones' 'Anesthesia' 'Eczema'\n",
            " \"Hashimoto's disease\" 'Hypogonadism, Male' 'Cold Sores' 'Tinea Corporis'\n",
            " 'Eye Redness/Itching' 'Constipation, Chronic' 'Psoriatic Arthritis'\n",
            " 'Nasal Congestion' 'Extrapyramidal Reaction' 'Rheumatoid Arthritis'\n",
            " 'Pneumonia' 'Inflammatory Conditions' 'Skin Rash' 'Hyperlipoproteinemia'\n",
            " 'Amenorrhea' 'Light Sedation' 'Cough and Nasal Congestion'\n",
            " 'Chronic Idiopathic Constipation' 'Herpes Simplex, Suppression'\n",
            " \"Traveler's Diarrhea\" 'Erectile Dysfunction' 'Actinic Keratosis'\n",
            " 'moterol)' 'Periodic Limb Movement Disorde' 'Endometriosis'\n",
            " 'Asthma, acute' 'Macular Edema' 'Postoperative Pain' \"Sjogren's Syndrome\"\n",
            " 'Glaucoma, Open Angle' 'Seizures' 'Hirsutism' 'Postmenopausal Symptoms'\n",
            " 'Cluster Headaches' 'Rhinitis' 'Binge Eating Disorde' 'Herpes Simplex'\n",
            " 'mance Anxiety' 'Atrial Fibrillation' 'Dry Eye Disease'\n",
            " 'Postoperative Ocular Inflammation' 'Plaque Psoriasis'\n",
            " 'Gastrointestinal Decontamination' 'Tonsillitis/Pharyngitis' 'Narcolepsy'\n",
            " 'Period Pain' 'Autism' 'Motion Sickness' 'Photoaging of the Skin'\n",
            " 'Bulimia' 'High Cholesterol, Familial Heterozygous' 'Atopic Dermatitis'\n",
            " 'Polycystic Ovary Syndrome' 'Allergic Reactions' 'Hot Flashes' 'Headache'\n",
            " 'COPD, Maintenance' 'Otitis Externa' 'Acute Nonlymphocytic Leukemia'\n",
            " 'Diarrhea' 'Pneumococcal Disease Prophylaxis'\n",
            " 'Prevention of Bladder infection' 'Diarrhea, Chronic'\n",
            " 'Iron Deficiency Anemia' 'Gout' 'Sedation'\n",
            " 'Upper Respiratory Tract Infection' \"Tourette's Syndrome\" 'Atrial Flutte'\n",
            " 'Back Pain' \"Parkinson's Disease\" 'Malaria Prevention'\n",
            " 'Nausea/Vomiting, Chemotherapy Induced' 'Postherpetic Neuralgia'\n",
            " '1</span> users found this comment helpful.' 'Hemorrhoids'\n",
            " '7</span> users found this comment helpful.' 'Human Papilloma Virus'\n",
            " 'Opioid-Induced Constipation' 'Hypertriglyceridemia'\n",
            " 'Hypothyroidism, After Thyroid Removal' 'Herpes Zoste' 'Paranoid Disorde'\n",
            " 'Psychosis' 'Pancreatic Exocrine Dysfunction' 'Light Anesthesia'\n",
            " '4</span> users found this comment helpful.' 'Postpartum Depression'\n",
            " 'Cold Symptoms' 'Anorexia' 'Onychomycosis, Toenail' 'Breakthrough Pain'\n",
            " 'Glaucoma' 'Mitral Valve Prolapse' 'Hidradenitis Suppurativa'\n",
            " 'Bone infection' '6</span> users found this comment helpful.'\n",
            " 'Prevention of Thromboembolism in Atrial Fibrillation'\n",
            " 'Skin Disinfection, Preoperative' 'Prevention of Osteoporosis' 'atigue'\n",
            " 'Kidney Infections' 'Onychomycosis, Fingernail' 'COPD, Acute'\n",
            " 'Prostate Cance' 'Diabetic Peripheral Neuropathy' 'Melanoma, Metastatic'\n",
            " 'Ventricular Tachycardia' 'Insulin Resistance Syndrome'\n",
            " 'Renal Cell Carcinoma' 'min)' 'Computed Tomography'\n",
            " 'Nausea/Vomiting of Pregnancy' 'min / sitagliptin)' 'Diverticulitis'\n",
            " \"Crohn's Disease, Maintenance\" 'Hereditary Angioedema' 'Hypersomnia'\n",
            " 'Keratosis' 'Human Papillomavirus Prophylaxis' 'Trigeminal Neuralgia'\n",
            " 'Edema' 'Tendonitis' 'Ulcerative Colitis, Active'\n",
            " 'Esophageal Variceal Hemorrhage Prophylaxis' 'zen Shoulde'\n",
            " 'ge (amlodipine / valsartan)'\n",
            " '39</span> users found this comment helpful.' 'Dry Skin' 'Night Terrors'\n",
            " 'Benign Essential Trem' 'Indigestion' 'Hypercalcemia of Malignancy'\n",
            " 'Pulmonary Hypertension' 'Stomach Ulce' 'Otitis Media'\n",
            " 'Bronchospasm Prophylaxis' 'Opioid Overdose'\n",
            " '55</span> users found this comment helpful.' 'Prostatitis'\n",
            " \"Alzheimer's Disease\" 'Xerostomia' 'Dysuria' 'Lactation Augmentation'\n",
            " 'Anal Itching' 'Pulmonary Embolism' \"Barrett's Esophagus\" 'Diaper Rash'\n",
            " 'Yellow Fever Prophylaxis' 'Gas' 'Systemic Mastocytosis'\n",
            " \"Crohn's Disease\" 'Myelodysplastic Syndrome'\n",
            " 'Persistent Depressive Disorde'\n",
            " 'Obstructive Sleep Apnea/Hypopnea Syndrome' 'Shift Work Sleep Disorde'\n",
            " 'Hyperprolactinemia' 'Vertig' 'Dental Abscess' \"Crohn's Disease, Acute\"\n",
            " 'Keratoconjunctivitis Sicca' 'Gout, Acute' 'COPD'\n",
            " 'Mycobacterium avium-intracellulare, Treatment'\n",
            " 'Chronic Lymphocytic Leukemia' 'Sexual Dysfunction, SSRI Induced'\n",
            " 'Pudendal Neuralgia' 'Thyroid Cance' 'Mucositis' 'Melasma' 'Eye Redness'\n",
            " 'Androgenetic Alopecia' 'Oligospermia' 'Iritis' 'TSH Suppression'\n",
            " 'Skin and Structure Infection' 'Tinea Versicol' 'Dandruff'\n",
            " 'Bacterial Skin Infection' 'acial Wrinkles' 'Angina Pectoris Prophylaxis'\n",
            " 'Vitamin D Deficiency' 'Interstitial Cystitis'\n",
            " 'Gastrointestinal Hemorrhage' 'Gastroparesis'\n",
            " 'Organ Transplant, Rejection Prophylaxis' 'Chronic Fatigue Syndrome'\n",
            " 'Muscle Pain' 'Bullous Pemphigoid'\n",
            " '3</span> users found this comment helpful.'\n",
            " 'Bacterial Endocarditis Prevention' 'Gastric Ulcer Maintenance Treatment'\n",
            " 'Gastroenteritis' 'Conjunctivitis, Bacterial' 'Sciatica'\n",
            " 'Post-Cholecystectomy Diarrhea' 'Supraventricular Tachycardia'\n",
            " 'Vitamin/Mineral Supplementation and Deficiency' 'Premature Ejaculation'\n",
            " 'AIDS Related Wasting' 'Heart Failure' 'Salmonella Gastroenteritis'\n",
            " 'Juvenile Rheumatoid Arthritis' 'Systemic Lupus Erythematosus'\n",
            " 'Asperger Syndrome' '8</span> users found this comment helpful.'\n",
            " \"von Willebrand's Disease\" 'Deep Vein Thrombosis' 'Malaria'\n",
            " 'Intraabdominal Infection' 'Hepatitis B' 'Duodenal Ulce'\n",
            " 'Ventricular Arrhythmia' 'Deep Vein Thrombosis, Prophylaxis'\n",
            " 'Endometrial Cance' 'Head Lice'\n",
            " '51</span> users found this comment helpful.'\n",
            " '12</span> users found this comment helpful.'\n",
            " 'Hypoactive Sexual Desire Disorde' 'Conjunctivitis, Allergic'\n",
            " 'Eosinophilic Esophagitis' '5</span> users found this comment helpful.'\n",
            " 'Pediatric Growth Hormone Deficiency' 'Small Bowel or Pancreatic Fistula'\n",
            " 'Reflex Sympathetic Dystrophy Syndrome' 'Pseudotumor Cerebri'\n",
            " 'Hemorrhoids (pramoxine / zinc oxide)' 'Tinea Cruris'\n",
            " 'Premature Ventricular Depolarizations' 'Angina' 'moterol / mometasone)'\n",
            " 'Vitamin/Mineral Supplementation during Pregnancy/Lactation'\n",
            " 'Hepatocellular Carcinoma' 'Perimenopausal Symptoms' 'Precocious Puberty'\n",
            " 'Dermatitis' 'Rat-bite Feve' 'Sinus Symptoms' 'Pharyngitis'\n",
            " 'Soft Tissue Sarcoma' 'Tuberculosis, Latent' 'Dyspareunia'\n",
            " 'ibrocystic Breast Disease' 'Alpha-1 Proteinase Inhibitor Deficiency'\n",
            " 'Ulcerative Colitis, Maintenance' 'Labor Induction'\n",
            " 'Cutaneous Candidiasis' 'Uveitis' 'Benzodiazepine Withdrawal'\n",
            " 'Pseudobulbar Affect' 'Atrophic Vaginitis' 'Noninfectious Colitis'\n",
            " 'Lichen Planus' 'Pruritus' 'ICU Agitation'\n",
            " 'Osteolytic Bone Lesions of Multiple Myeloma' 'Impetig'\n",
            " 'Macular Degeneration' 'Basal Cell Carcinoma' 'Aplastic Anemia'\n",
            " 'Systemic Sclerosis' 'Uterine Fibroids'\n",
            " 'Seasonal Allergic Conjunctivitis' 'Gastrointestinal Stromal Tum'\n",
            " 'Cyclic Vomiting Syndrome' 'Breast Cancer, Adjuvant' 'Mania'\n",
            " 'Occipital Neuralgia' 'Topical Disinfection' 'Nephrotic Syndrome'\n",
            " 'Nocturnal Leg Cramps' 'Seasonal Affective Disorde'\n",
            " '38</span> users found this comment helpful.'\n",
            " '2</span> users found this comment helpful.' 'Intraocular Hypertension'\n",
            " 'Chronic Myofascial Pain' 'Chronic Pancreatitis' 'Aphthous Ulce'\n",
            " 'Neutropenia Associated with Chemotherapy' 'Seborrheic Dermatitis'\n",
            " 'Chronic Spasticity' 'Breast Cancer, Metastatic' 'Labor Pain' 'Hiccups'\n",
            " 'Menorrhagia' 'Oophorectomy' 'Surgical Prophylaxis'\n",
            " 'Occupational Exposure' 'Lipodystrophy' 'Autoimmune Hepatitis'\n",
            " 'Tinea Pedis' 'Ovulation Induction' 'Nausea/Vomiting, Postoperative'\n",
            " 'Lyme Disease' 'Heart Attack'\n",
            " '37</span> users found this comment helpful.' 'Vitamin B12 Deficiency'\n",
            " 'Tinnitus' 'Eyelash Hypotrichosis'\n",
            " '9</span> users found this comment helpful.'\n",
            " 'Prevention of Cardiovascular Disease' 'Women (oxybutynin)'\n",
            " 'Cystic Fibrosis' 'Undifferentiated Connective Tissue Disease'\n",
            " 'Infection Prophylaxis' 'Cervical Dystonia' 'Premenstrual Syndrome'\n",
            " 'Hyperphosphatemia of Renal Failure' 'Anthrax' 'Enterocolitis'\n",
            " 'Mononucleosis' 'Hypokalemic Periodic Paralysis' 'Pe'\n",
            " 'Diabetic Macular Edema' 'Vulvodynia'\n",
            " 'Pinworm Infection (Enterobius vermicularis)'\n",
            " 'Anemia Associated with Chronic Renal Failure' 'Menopausal Disorders'\n",
            " 'Inflammatory Bowel Disease' 'Nightmares' 'Streptococcal Infection'\n",
            " 'Agitated State' \"Dupuytren's contracture\" 'CMV Prophylaxis'\n",
            " 'Lyme Disease, Neurologic' 'Peripheral Arterial Disease' 'Dystonia'\n",
            " '33</span> users found this comment helpful.' 'Ophthalmic Surgery'\n",
            " 'Mixed Connective Tissue Disease' 'Multiple Myeloma' 'Allergic Urticaria'\n",
            " 'Methicillin-Resistant Staphylococcus Aureus Infection'\n",
            " 'Lennox-Gastaut Syndrome' 'Peptic Ulce' 'Diabetic Kidney Disease'\n",
            " 'Swine Flu' 'Performance Anxiety' 'Ischemic Stroke, Prophylaxis'\n",
            " \"Non-Hodgkin's Lymphoma\" 'lic Acid Deficiency' 'Thyrotoxicosis'\n",
            " 'Osteolytic Bone Metastases of Solid Tumors' 'Neutropenia' 'Bacteremia'\n",
            " 'Conjunctivitis' 'Diabetes Insipidus' 'Myelofibrosis' 'Skin Cance'\n",
            " \"Behcet's Disease\" 'Influenza Prophylaxis'\n",
            " 'Primary Immunodeficiency Syndrome' 'Sunburn'\n",
            " '16</span> users found this comment helpful.'\n",
            " 'Pelvic Inflammatory Disease' 'Giardiasis'\n",
            " '21</span> users found this comment helpful.' 'Lymphocytic Colitis'\n",
            " 'Coccidioidomycosis' '14</span> users found this comment helpful.'\n",
            " 'Cance' 'Idiopathic Thrombocytopenic Purpura'\n",
            " '32</span> users found this comment helpful.'\n",
            " '28</span> users found this comment helpful.' 'Myasthenia Gravis'\n",
            " 'Breast Cancer, Prevention' 'Breast Cancer, Palliative'\n",
            " 'Renal Tubular Acidosis' 'Burns, External' 'Acute Otitis Externa'\n",
            " 'Gouty Arthritis' 'Dermatologic Lesion'\n",
            " 'Postural Orthostatic Tachycardia Syndrome'\n",
            " '41</span> users found this comment helpful.'\n",
            " 'Dietary Fiber Supplementation' 'Herbal Supplementation'\n",
            " 'Hypoestrogenism' 'Primary Nocturnal Enuresis' 'Lymphoma'\n",
            " 'llicle Stimulation' 'Sarcoidosis' 'Mantle Cell Lymphoma' 'Bursitis'\n",
            " '27</span> users found this comment helpful.'\n",
            " 'cal Segmental Glomerulosclerosis'\n",
            " 'Mountain Sickness / Altitude Sickness' 'Agitation'\n",
            " 'Diagnosis and Investigation' 'Periodontitis'\n",
            " 'Polymyositis/Dermatomyositis' 'Aspergillosis, Aspergilloma'\n",
            " '34</span> users found this comment helpful.']\n"
          ]
        }
      ],
      "source": [
        "print('kondisi: ', (obat.condition.unique()))"
      ]
    },
    {
      "cell_type": "code",
      "execution_count": 10,
      "metadata": {
        "colab": {
          "base_uri": "https://localhost:8080/"
        },
        "id": "wU2SsEY8yTGc",
        "outputId": "46484568-a852-4cb6-a099-904b78fbfef2"
      },
      "outputs": [
        {
          "name": "stdout",
          "output_type": "stream",
          "text": [
            "Rating:  [ 9  8  1 10  7  6  4  5  3  2]\n"
          ]
        }
      ],
      "source": [
        "print('Rating: ', (obat.rating.unique()))"
      ]
    },
    {
      "cell_type": "code",
      "execution_count": 11,
      "metadata": {
        "colab": {
          "base_uri": "https://localhost:8080/"
        },
        "id": "CCBrxFLVyZvA",
        "outputId": "da00eed7-1c57-4d52-bcbe-b951184fc1a6"
      },
      "outputs": [
        {
          "name": "stdout",
          "output_type": "stream",
          "text": [
            "Obat UsefulCount: [  3  33  40  21  19  25   9  12   2  14  28  17  26   1   7  22   6  67\n",
            "  42  44  49 104  46  94   5  31  15  48 101  35  20 115  11  83  61  30\n",
            "   8 132  29  10  16   0   4  73  27  34  24 152  57 150  45  32  23  52\n",
            "  56  38 111  51  70  13  55  36  37 147  53  69  54 134 182  66 109  74\n",
            " 125 117  96  75  18  72  64  85 124  59 168  50  84  77  63 160 110  80\n",
            "  68 113  81  71 179 108 126  47 176  95  39 135  88 344 195 234  60 313\n",
            " 131  43  58  41 159 114  86 129 172 153 121 137 103 198 157 123  82 141\n",
            " 138  99  97 486 107 255 146 140 149  65 328  92  62 127 211 106 151 118\n",
            " 368 100  87 220 102 154  76 116 130 120 282 148  89 143 304  79 112  93\n",
            " 315  90 197 105 217 161 183  91 133  78 414 235 167 170 144 253 136 201\n",
            " 188 145 194 165  98 214 122 185 163 229 202 200 209 203 256 119 156 155\n",
            " 559 128 191 261 187 249 190 233 162 448 164 228 181 158 286 283 139 175\n",
            " 180 193 204 174 949 142 371 166 239 470 213 308 199 289 240 207 484 291\n",
            " 262 206 184 310 358 226 264 186 247 223 208 695 237 245 216 406 177 332\n",
            " 178 270 218 243 312 236 272 171 169 222 221 281 251 212 307]\n"
          ]
        }
      ],
      "source": [
        "print('Obat UsefulCount:',(obat.usefulCount.unique()))"
      ]
    },
    {
      "cell_type": "markdown",
      "metadata": {
        "id": "JyQAY3kwVcUR"
      },
      "source": [
        "### Menampilakan Visualisasi dari Distribusi rata-rata berdasarkan Rating Obat"
      ]
    },
    {
      "cell_type": "code",
      "execution_count": 12,
      "metadata": {
        "colab": {
          "base_uri": "https://localhost:8080/",
          "height": 472
        },
        "id": "Wcy9e82M8F2T",
        "outputId": "9278e6d8-bdee-4fbf-db1d-41c6f8cef9aa"
      },
      "outputs": [
        {
          "data": {
            "image/png": "[encoded data removed]",
            "text/plain": [
              "<Figure size 640x480 with 1 Axes>"
            ]
          },
          "metadata": {},
          "output_type": "display_data"
        }
      ],
      "source": [
        "# Drugs Average Ratings Distribution\n",
        "plt.hist(obat.rating, color='pink', edgecolor='black')\n",
        "plt.ylabel('Total')\n",
        "plt.xlabel('Avg Rating')\n",
        "plt.title(\"Distribusi Rata-rata Rating obat\")\n",
        "plt.show()"
      ]
    },
    {
      "cell_type": "markdown",
      "metadata": {
        "id": "y9-BVpHeV_OU"
      },
      "source": [
        "berdasarkan pada grafik diatas sebagian besar pengguna obat memberikan rating tertinggi (10) dengan jumlah rating 4726. hal tersebut menunjukan kepuasan pengguna terhadap obat yang mereka gunakan\n",
        "\n",
        "---\n",
        "\n"
      ]
    },
    {
      "cell_type": "markdown",
      "metadata": {
        "id": "sJBCkshiWss4"
      },
      "source": [
        "obat['condition'].sort_values(ascending=False) digunakan Mengurutkan DataFrame berdasarkan kolom condition dalam urutan menurun (descending) — artinya dari Z ke A (atau kondisi paling akhir secara alfabet ke awal).\n",
        "\n"
      ]
    },
    {
      "cell_type": "code",
      "execution_count": 13,
      "metadata": {
        "colab": {
          "base_uri": "https://localhost:8080/",
          "height": 241
        },
        "id": "VwHRSjeQ8twB",
        "outputId": "81ff773f-805b-405e-c627-58f314470bfe"
      },
      "outputs": [
        {
          "data": {
            "text/html": [
              "<div>\n",
              "<style scoped>\n",
              "    .dataframe tbody tr th:only-of-type {\n",
              "        vertical-align: middle;\n",
              "    }\n",
              "\n",
              "    .dataframe tbody tr th {\n",
              "        vertical-align: top;\n",
              "    }\n",
              "\n",
              "    .dataframe thead th {\n",
              "        text-align: right;\n",
              "    }\n",
              "</style>\n",
              "<table border=\"1\" class=\"dataframe\">\n",
              "  <thead>\n",
              "    <tr style=\"text-align: right;\">\n",
              "      <th></th>\n",
              "      <th>condition</th>\n",
              "    </tr>\n",
              "  </thead>\n",
              "  <tbody>\n",
              "    <tr>\n",
              "      <th>10100</th>\n",
              "      <td>zen Shoulde</td>\n",
              "    </tr>\n",
              "    <tr>\n",
              "      <th>1831</th>\n",
              "      <td>zen Shoulde</td>\n",
              "    </tr>\n",
              "    <tr>\n",
              "      <th>10358</th>\n",
              "      <td>zen Shoulde</td>\n",
              "    </tr>\n",
              "    <tr>\n",
              "      <th>3731</th>\n",
              "      <td>von Willebrand's Disease</td>\n",
              "    </tr>\n",
              "    <tr>\n",
              "      <th>4631</th>\n",
              "      <td>moterol)</td>\n",
              "    </tr>\n",
              "  </tbody>\n",
              "</table>\n",
              "</div><br><label><b>dtype:</b> object</label>"
            ],
            "text/plain": [
              "10100                 zen Shoulde\n",
              "1831                  zen Shoulde\n",
              "10358                 zen Shoulde\n",
              "3731     von Willebrand's Disease\n",
              "4631                     moterol)\n",
              "Name: condition, dtype: object"
            ]
          },
          "execution_count": 13,
          "metadata": {},
          "output_type": "execute_result"
        }
      ],
      "source": [
        "obat['condition'].sort_values(ascending=False).head()"
      ]
    },
    {
      "cell_type": "markdown",
      "metadata": {
        "id": "zIGrhLxWcP3p"
      },
      "source": [
        "Membuat Visualisasi untuk jenis obat yang paling sering digunakan dalam berbagai kondisi kesehatan. Kode ini bertujuan untuk menampilkan 10 obat teratas yang paling banyak digunakan untuk berbagai kondisi kesehatan berdasarkan banyaknya kemunculan (jumlah penggunaan) obat tersebut dalam dataset."
      ]
    },
    {
      "cell_type": "code",
      "execution_count": 14,
      "metadata": {
        "colab": {
          "base_uri": "https://localhost:8080/",
          "height": 748
        },
        "id": "D2yyARbQ9NIi",
        "outputId": "64b30166-e72d-4740-aa73-874a45ce5f8c"
      },
      "outputs": [
        {
          "data": {
            "image/png": "[encoded data removed]",
            "text/plain": [
              "<Figure size 1200x800 with 1 Axes>"
            ]
          },
          "metadata": {},
          "output_type": "display_data"
        }
      ],
      "source": [
        "# Hitung jumlah obat berdasarkan condition\n",
        "top10_obat = (\n",
        "    obat.groupby('drugName')['condition']\n",
        "    .count()\n",
        "    .sort_values(ascending=False)\n",
        "    .head(10)\n",
        "    .reset_index(name='count')\n",
        ")\n",
        "\n",
        "# Plot\n",
        "plt.figure(figsize=(12, 8))\n",
        "colors = ['#87255B', '#56CBF9', '#F5D491', '#BEB7A4', '#B4E1FF', '#F06C9B', '#D3C4D1', '#81F4E1', '#C2AFF0', '#C57B57']\n",
        "labels = top10_obat['drugName'].values\n",
        "values = top10_obat['count'].values\n",
        "\n",
        "bars = plt.barh(labels, values, color=colors, edgecolor='black', height=0.6)\n",
        "\n",
        "# Tambahkan label jumlah\n",
        "for bar in bars:\n",
        "    width = bar.get_width()\n",
        "    plt.text(width + 1, bar.get_y() + bar.get_height()/2,\n",
        "             f\"{int(width)}\", va='center', fontsize=12, fontweight='bold')\n",
        "\n",
        "plt.gca().invert_yaxis()\n",
        "plt.grid(axis='x', linestyle='--', alpha=0.6)\n",
        "plt.xticks(fontsize=12)\n",
        "plt.yticks(fontsize=12, fontweight='bold')\n",
        "plt.title(\"Top 10 Obat Berdasarkan Jumlah Penggunaan untuk Berbagai Kondisi\", fontsize=16, fontweight='bold')\n",
        "plt.xlabel(\"Jumlah Kondisi (Penggunaan)\", fontsize=14)\n",
        "plt.tight_layout()\n",
        "plt.show()\n"
      ]
    },
    {
      "cell_type": "markdown",
      "metadata": {
        "id": "9PmBLSBbctc4"
      },
      "source": [
        "\n",
        "\n",
        "---\n",
        "\n",
        "\n",
        "obat['rating'].sort_values(ascending=False) digunakan Mengurutkan DataFrame berdasarkan kolom rating dalam urutan menurun (descending).\n"
      ]
    },
    {
      "cell_type": "code",
      "execution_count": 15,
      "metadata": {
        "colab": {
          "base_uri": "https://localhost:8080/",
          "height": 241
        },
        "id": "mdZ9nv6B9_sz",
        "outputId": "76ad1c0b-7ffb-4d1a-b0d9-926c5666ca50"
      },
      "outputs": [
        {
          "data": {
            "text/html": [
              "<div>\n",
              "<style scoped>\n",
              "    .dataframe tbody tr th:only-of-type {\n",
              "        vertical-align: middle;\n",
              "    }\n",
              "\n",
              "    .dataframe tbody tr th {\n",
              "        vertical-align: top;\n",
              "    }\n",
              "\n",
              "    .dataframe thead th {\n",
              "        text-align: right;\n",
              "    }\n",
              "</style>\n",
              "<table border=\"1\" class=\"dataframe\">\n",
              "  <thead>\n",
              "    <tr style=\"text-align: right;\">\n",
              "      <th></th>\n",
              "      <th>rating</th>\n",
              "    </tr>\n",
              "  </thead>\n",
              "  <tbody>\n",
              "    <tr>\n",
              "      <th>14995</th>\n",
              "      <td>10</td>\n",
              "    </tr>\n",
              "    <tr>\n",
              "      <th>14994</th>\n",
              "      <td>10</td>\n",
              "    </tr>\n",
              "    <tr>\n",
              "      <th>14976</th>\n",
              "      <td>10</td>\n",
              "    </tr>\n",
              "    <tr>\n",
              "      <th>14973</th>\n",
              "      <td>10</td>\n",
              "    </tr>\n",
              "    <tr>\n",
              "      <th>14971</th>\n",
              "      <td>10</td>\n",
              "    </tr>\n",
              "  </tbody>\n",
              "</table>\n",
              "</div><br><label><b>dtype:</b> int64</label>"
            ],
            "text/plain": [
              "14995    10\n",
              "14994    10\n",
              "14976    10\n",
              "14973    10\n",
              "14971    10\n",
              "Name: rating, dtype: int64"
            ]
          },
          "execution_count": 15,
          "metadata": {},
          "output_type": "execute_result"
        }
      ],
      "source": [
        "# mengurutkan data rating dari tertinggi ke terendah\n",
        "obat['rating'].sort_values(ascending=False).head()"
      ]
    },
    {
      "cell_type": "markdown",
      "metadata": {
        "id": "z8LPptTmeoI2"
      },
      "source": [
        "Membuat Visualisasi untuk jenis obat yang paling sering digunakan dengan berdasarkan pada rating yang diberikan. Kode ini bertujuan untuk menampilkan 10 obat teratas yang paling banyak digunakan untuk berbagai kondisi kesehatan berdasarkan banyaknya kemunculan (jumlah penggunaan) obat tersebut dalam dataset."
      ]
    },
    {
      "cell_type": "code",
      "execution_count": 16,
      "metadata": {
        "colab": {
          "base_uri": "https://localhost:8080/",
          "height": 633
        },
        "id": "2YAbbyHz-vsO",
        "outputId": "511d928b-8f62-4d05-a4cb-ff742db9ee1b"
      },
      "outputs": [
        {
          "data": {
            "image/png": "[encoded data removed]",
            "text/plain": [
              "<Figure size 1800x1000 with 1 Axes>"
            ]
          },
          "metadata": {},
          "output_type": "display_data"
        }
      ],
      "source": [
        "# Ambil 10 obat dengan rating tertinggi\n",
        "top10_obat = obat[['drugName', 'rating']].sort_values(by='rating', ascending=False).head(10)\n",
        "\n",
        "colors = ['#87255B', '#56CBF9', '#F5D491', '#BEB7A4', '#B4E1FF',\n",
        "          '#F06C9B', '#D3C4D1', '#81F4E1', '#C2AFF0', '#C57B57']\n",
        "\n",
        "labels = top10_obat['drugName'].values\n",
        "values = top10_obat['rating'].values\n",
        "\n",
        "plt.figure(figsize=(18, 10))\n",
        "bars = plt.bar(labels, values, color=colors, edgecolor='black', width=0.6)\n",
        "\n",
        "# Tambahkan nilai rating di atas setiap batang\n",
        "for bar in bars:\n",
        "    height = bar.get_height()\n",
        "    plt.text(bar.get_x() + bar.get_width()/2, height + 0.05,\n",
        "             f\"{height:.2f}\", ha='center', va='bottom', fontsize=12, fontweight='bold')\n",
        "\n",
        "# Tata letak & tampilan\n",
        "plt.ylabel(\"Rata-rata Rating\", fontsize=14)\n",
        "plt.xlabel(\"Nama Obat\", fontsize=14)\n",
        "plt.title(\"Top 10 Obat Berdasarkan Rata-rata Rating\", fontsize=20, fontweight='bold')\n",
        "plt.xticks(rotation=45, ha='right', fontsize=12)\n",
        "plt.yticks(np.arange(0, 10.5, 0.5), fontsize=12)\n",
        "plt.grid(axis='y', linestyle='--', alpha=0.6)\n",
        "plt.tight_layout()\n",
        "plt.show()"
      ]
    },
    {
      "cell_type": "markdown",
      "metadata": {
        "id": "_tGyZxbgezB5"
      },
      "source": [
        "obat['usefulCount'].sort_values(ascending=False) digunakan Mengurutkan DataFrame berdasarkan kolom condition dalam urutan menurun (descending) — artinya dari Z ke A (atau kondisi paling akhir secara alfabet ke awal) atau dari yang terbesar ke terkecil.\n",
        "\n"
      ]
    },
    {
      "cell_type": "code",
      "execution_count": 17,
      "metadata": {
        "colab": {
          "base_uri": "https://localhost:8080/",
          "height": 241
        },
        "id": "_HSxXGc---tk",
        "outputId": "ba3a2a3b-b42e-4997-c00d-8b17cc085673"
      },
      "outputs": [
        {
          "data": {
            "text/html": [
              "<div>\n",
              "<style scoped>\n",
              "    .dataframe tbody tr th:only-of-type {\n",
              "        vertical-align: middle;\n",
              "    }\n",
              "\n",
              "    .dataframe tbody tr th {\n",
              "        vertical-align: top;\n",
              "    }\n",
              "\n",
              "    .dataframe thead th {\n",
              "        text-align: right;\n",
              "    }\n",
              "</style>\n",
              "<table border=\"1\" class=\"dataframe\">\n",
              "  <thead>\n",
              "    <tr style=\"text-align: right;\">\n",
              "      <th></th>\n",
              "      <th>usefulCount</th>\n",
              "    </tr>\n",
              "  </thead>\n",
              "  <tbody>\n",
              "    <tr>\n",
              "      <th>6745</th>\n",
              "      <td>949</td>\n",
              "    </tr>\n",
              "    <tr>\n",
              "      <th>9428</th>\n",
              "      <td>695</td>\n",
              "    </tr>\n",
              "    <tr>\n",
              "      <th>4751</th>\n",
              "      <td>559</td>\n",
              "    </tr>\n",
              "    <tr>\n",
              "      <th>895</th>\n",
              "      <td>486</td>\n",
              "    </tr>\n",
              "    <tr>\n",
              "      <th>8204</th>\n",
              "      <td>484</td>\n",
              "    </tr>\n",
              "  </tbody>\n",
              "</table>\n",
              "</div><br><label><b>dtype:</b> int64</label>"
            ],
            "text/plain": [
              "6745    949\n",
              "9428    695\n",
              "4751    559\n",
              "895     486\n",
              "8204    484\n",
              "Name: usefulCount, dtype: int64"
            ]
          },
          "execution_count": 17,
          "metadata": {},
          "output_type": "execute_result"
        }
      ],
      "source": [
        "#mengurutkan data usefulCount dari terbesar ke kecil\n",
        "obat['usefulCount'].sort_values(ascending=False).head()"
      ]
    },
    {
      "cell_type": "markdown",
      "metadata": {
        "id": "AzCcuYrXfMCa"
      },
      "source": [
        "Membuat Visualisasi untuk jenis obat yang paling sering digunakan berdasarkan pada kegunaan. Kode ini bertujuan untuk menampilkan 10 obat teratas yang paling banyak digunakan untuk berbagai umlah kegunaan berdasarkan banyaknya kemunculan (jumlah penggunaan) obat tersebut dalam dataset."
      ]
    },
    {
      "cell_type": "code",
      "execution_count": 18,
      "metadata": {
        "colab": {
          "base_uri": "https://localhost:8080/",
          "height": 632
        },
        "id": "YCFaqNde_VdP",
        "outputId": "c72d9e7d-5c9e-4052-eafc-36d493050957"
      },
      "outputs": [
        {
          "data": {
            "image/png": "[encoded data removed]",
            "text/plain": [
              "<Figure size 1800x1000 with 1 Axes>"
            ]
          },
          "metadata": {},
          "output_type": "display_data"
        }
      ],
      "source": [
        "# Ambil 10 obat dengan usefulCount tertinggi\n",
        "top10_obat = obat[['drugName', 'usefulCount']].sort_values(by='usefulCount', ascending=False).head(10)\n",
        "\n",
        "# Data untuk plotting\n",
        "colors = ['#87255B', '#56CBF9', '#F5D491', '#BEB7A4', '#B4E1FF',\n",
        "          '#F06C9B', '#D3C4D1', '#81F4E1', '#C2AFF0', '#C57B57']\n",
        "\n",
        "labels = top10_obat['drugName'].values\n",
        "values = top10_obat['usefulCount'].values\n",
        "\n",
        "# Plot\n",
        "plt.figure(figsize=(18, 10))\n",
        "bars = plt.bar(labels, values, color=colors, edgecolor='black', width=0.6)\n",
        "\n",
        "# Tambahkan nilai di atas setiap batang\n",
        "for bar in bars:\n",
        "    height = bar.get_height()\n",
        "    plt.text(bar.get_x() + bar.get_width()/2, height + 5,\n",
        "             f\"{int(height):,}\", ha='center', va='bottom', fontsize=12, fontweight='bold')\n",
        "\n",
        "# Tata letak & tampilan\n",
        "plt.ylabel(\"Jumlah Pengguna yang Menganggap Review Berguna\", fontsize=14)\n",
        "plt.xlabel(\"Nama Obat\", fontsize=14)\n",
        "plt.title(\"Top 10 Obat Berdasarkan Useful Count\", fontsize=20, fontweight='bold')\n",
        "plt.xticks(rotation=45, ha='right', fontsize=12)\n",
        "plt.grid(axis='y', linestyle='--', alpha=0.6)\n",
        "plt.tight_layout()\n",
        "plt.show()\n"
      ]
    },
    {
      "cell_type": "markdown",
      "metadata": {
        "id": "AKFJafpJ3L3p"
      },
      "source": [
        "# **Data Preparation**"
      ]
    },
    {
      "cell_type": "markdown",
      "metadata": {
        "id": "i6d8Crf3P-PZ"
      },
      "source": [
        "**obat.isnull().sum** merupakan langkah untuk melihat apakah dalam data tersebut memiliki nilai kosong atau Null"
      ]
    },
    {
      "cell_type": "code",
      "execution_count": 19,
      "metadata": {
        "colab": {
          "base_uri": "https://localhost:8080/",
          "height": 303
        },
        "id": "kbbDzhLhz8e2",
        "outputId": "ddf18bd1-6032-401f-c484-6e41ab7488ac"
      },
      "outputs": [
        {
          "data": {
            "text/html": [
              "<div>\n",
              "<style scoped>\n",
              "    .dataframe tbody tr th:only-of-type {\n",
              "        vertical-align: middle;\n",
              "    }\n",
              "\n",
              "    .dataframe tbody tr th {\n",
              "        vertical-align: top;\n",
              "    }\n",
              "\n",
              "    .dataframe thead th {\n",
              "        text-align: right;\n",
              "    }\n",
              "</style>\n",
              "<table border=\"1\" class=\"dataframe\">\n",
              "  <thead>\n",
              "    <tr style=\"text-align: right;\">\n",
              "      <th></th>\n",
              "      <th>0</th>\n",
              "    </tr>\n",
              "  </thead>\n",
              "  <tbody>\n",
              "    <tr>\n",
              "      <th>uniqueID</th>\n",
              "      <td>0</td>\n",
              "    </tr>\n",
              "    <tr>\n",
              "      <th>drugName</th>\n",
              "      <td>0</td>\n",
              "    </tr>\n",
              "    <tr>\n",
              "      <th>condition</th>\n",
              "      <td>81</td>\n",
              "    </tr>\n",
              "    <tr>\n",
              "      <th>review</th>\n",
              "      <td>0</td>\n",
              "    </tr>\n",
              "    <tr>\n",
              "      <th>rating</th>\n",
              "      <td>0</td>\n",
              "    </tr>\n",
              "    <tr>\n",
              "      <th>date</th>\n",
              "      <td>0</td>\n",
              "    </tr>\n",
              "    <tr>\n",
              "      <th>usefulCount</th>\n",
              "      <td>0</td>\n",
              "    </tr>\n",
              "  </tbody>\n",
              "</table>\n",
              "</div><br><label><b>dtype:</b> int64</label>"
            ],
            "text/plain": [
              "uniqueID        0\n",
              "drugName        0\n",
              "condition      81\n",
              "review          0\n",
              "rating          0\n",
              "date            0\n",
              "usefulCount     0\n",
              "dtype: int64"
            ]
          },
          "execution_count": 19,
          "metadata": {},
          "output_type": "execute_result"
        }
      ],
      "source": [
        "obat.isnull().sum()"
      ]
    },
    {
      "cell_type": "markdown",
      "metadata": {
        "id": "IY0DWTSdRyJ5"
      },
      "source": [
        "setelah melakaukan pengecekan nilai kosong atau null pada dataset tersebut ditemukan 81 nilai kosong pada kolom condition. dikarenakan jumlah data yang relatif besar maka menghapus data tersebut tentu saja tidak akan berpengaruh secara signifikat terhadap proses selanjutnya.\n",
        "\n"
      ]
    },
    {
      "cell_type": "code",
      "execution_count": 20,
      "metadata": {
        "id": "O31N1C1h3pOe"
      },
      "outputs": [],
      "source": [
        "obat = obat.dropna()"
      ]
    },
    {
      "cell_type": "code",
      "execution_count": 21,
      "metadata": {
        "colab": {
          "base_uri": "https://localhost:8080/",
          "height": 303
        },
        "id": "PQAzs6Jw4Deo",
        "outputId": "2b719035-d077-4b21-a7d2-fd3d32aad2cd"
      },
      "outputs": [
        {
          "data": {
            "text/html": [
              "<div>\n",
              "<style scoped>\n",
              "    .dataframe tbody tr th:only-of-type {\n",
              "        vertical-align: middle;\n",
              "    }\n",
              "\n",
              "    .dataframe tbody tr th {\n",
              "        vertical-align: top;\n",
              "    }\n",
              "\n",
              "    .dataframe thead th {\n",
              "        text-align: right;\n",
              "    }\n",
              "</style>\n",
              "<table border=\"1\" class=\"dataframe\">\n",
              "  <thead>\n",
              "    <tr style=\"text-align: right;\">\n",
              "      <th></th>\n",
              "      <th>0</th>\n",
              "    </tr>\n",
              "  </thead>\n",
              "  <tbody>\n",
              "    <tr>\n",
              "      <th>uniqueID</th>\n",
              "      <td>0</td>\n",
              "    </tr>\n",
              "    <tr>\n",
              "      <th>drugName</th>\n",
              "      <td>0</td>\n",
              "    </tr>\n",
              "    <tr>\n",
              "      <th>condition</th>\n",
              "      <td>0</td>\n",
              "    </tr>\n",
              "    <tr>\n",
              "      <th>review</th>\n",
              "      <td>0</td>\n",
              "    </tr>\n",
              "    <tr>\n",
              "      <th>rating</th>\n",
              "      <td>0</td>\n",
              "    </tr>\n",
              "    <tr>\n",
              "      <th>date</th>\n",
              "      <td>0</td>\n",
              "    </tr>\n",
              "    <tr>\n",
              "      <th>usefulCount</th>\n",
              "      <td>0</td>\n",
              "    </tr>\n",
              "  </tbody>\n",
              "</table>\n",
              "</div><br><label><b>dtype:</b> int64</label>"
            ],
            "text/plain": [
              "uniqueID       0\n",
              "drugName       0\n",
              "condition      0\n",
              "review         0\n",
              "rating         0\n",
              "date           0\n",
              "usefulCount    0\n",
              "dtype: int64"
            ]
          },
          "execution_count": 21,
          "metadata": {},
          "output_type": "execute_result"
        }
      ],
      "source": [
        "obat.isnull().sum()"
      ]
    },
    {
      "cell_type": "markdown",
      "metadata": {
        "id": "T76eL6dHSZlE"
      },
      "source": [
        "selelah melakukan pengapusan missing data pada kolom condition maka jumlah data yang awalnya 15.000 menjadi 14.919\n",
        "\n",
        "---\n",
        "\n"
      ]
    },
    {
      "cell_type": "markdown",
      "metadata": {
        "id": "qafNHNOGSsPZ"
      },
      "source": [
        "langkah selanjuntya yaitu melakukan pengecekan duplicate data dengan menggunakan fungsi duplicated, dengan hasil tidak ditemukannya data yang duplicat"
      ]
    },
    {
      "cell_type": "code",
      "execution_count": 22,
      "metadata": {
        "colab": {
          "base_uri": "https://localhost:8080/"
        },
        "id": "JRx0-M8R4sfO",
        "outputId": "83b91b4b-34ae-4ad9-8b6a-d3d72f06e501"
      },
      "outputs": [
        {
          "name": "stdout",
          "output_type": "stream",
          "text": [
            "Terdapat 0 baris duplikat dari total 14919 baris.\n"
          ]
        }
      ],
      "source": [
        "# Mengecek apakah ada baris duplikat\n",
        "jumlah_duplikat = obat.duplicated().sum()\n",
        "print(f\"Terdapat {jumlah_duplikat} baris duplikat dari total {obat.shape[0]} baris.\")\n"
      ]
    },
    {
      "cell_type": "markdown",
      "metadata": {
        "id": "ixnjbElpTWgf"
      },
      "source": [
        "melakukan regresi expresion untuk membersihkan teks ulasan obat (review) dari simbol-simbol HTML, karakter khusus, dan format yang tidak konsisten. Tujuannya adalah agar data teks menjadi lebih rapi dan konsisten sebelum digunakan dalam proses seperti analisis sentimen atau sistem rekomendasi."
      ]
    },
    {
      "cell_type": "code",
      "execution_count": 23,
      "metadata": {
        "id": "k3etPFMo595K"
      },
      "outputs": [],
      "source": [
        "import re\n",
        "\n",
        "def text_cleaning(text):\n",
        "    # Pastikan text adalah string\n",
        "    if not isinstance(text, str):\n",
        "        return text\n",
        "\n",
        "    # Daftar pola dan penggantinya\n",
        "    replacements = [\n",
        "        (r'\"', ''),          # Menghapus tanda kutip ganda\n",
        "        (r'\\.hack//', ''),    # Menghapus .hack// (escape titik)\n",
        "        (r'&#039;', \"'\"),     # Mengubah &#039; menjadi apostrof\n",
        "        (r'A&#039;s', \"A's\"),  # Memperbaiki A's\n",
        "        (r'I&#039;', \"I'\"),    # Memperbaiki I'\n",
        "        (r'&', 'and'),       # Mengubah & menjadi and\n",
        "        (r'\\\\', ''),         # Menghapus backslash\n",
        "        (r'\\s+', ' ')        # Mengganti multiple spasi dengan satu spasi\n",
        "    ]\n",
        "\n",
        "    # Terapkan semua replacements\n",
        "    for pattern, repl in replacements:\n",
        "        text = re.sub(pattern, repl, text)\n",
        "\n",
        "    return text.strip()  # Hilangkan spasi di awal/akhir\n",
        "\n",
        "# Terapkan fungsi ke kolom review\n",
        "obat['review'] = obat['review'].apply(text_cleaning)"
      ]
    },
    {
      "cell_type": "markdown",
      "metadata": {
        "id": "ucSXggPzUMMK"
      },
      "source": [
        "## Melakukan groupby pada kolom drugName, Conditon dan rating\n",
        "\n",
        "groupby digunakan untuk menghitung jumlah entri data untuk setiap nama obat (drugName, condition, rating) dalam DataFrame obat."
      ]
    },
    {
      "cell_type": "code",
      "execution_count": 24,
      "metadata": {
        "colab": {
          "base_uri": "https://localhost:8080/",
          "height": 489
        },
        "id": "RD9-qDWs6ajC",
        "outputId": "e01a52bb-27da-4a07-af44-49b8fa838b20"
      },
      "outputs": [
        {
          "data": {
            "text/html": [
              "<div>\n",
              "<style scoped>\n",
              "    .dataframe tbody tr th:only-of-type {\n",
              "        vertical-align: middle;\n",
              "    }\n",
              "\n",
              "    .dataframe tbody tr th {\n",
              "        vertical-align: top;\n",
              "    }\n",
              "\n",
              "    .dataframe thead th {\n",
              "        text-align: right;\n",
              "    }\n",
              "</style>\n",
              "<table border=\"1\" class=\"dataframe\">\n",
              "  <thead>\n",
              "    <tr style=\"text-align: right;\">\n",
              "      <th></th>\n",
              "      <th>drugName</th>\n",
              "    </tr>\n",
              "    <tr>\n",
              "      <th>drugName</th>\n",
              "      <th></th>\n",
              "    </tr>\n",
              "  </thead>\n",
              "  <tbody>\n",
              "    <tr>\n",
              "      <th>Abacavir / dolutegravir / lamivudine</th>\n",
              "      <td>7</td>\n",
              "    </tr>\n",
              "    <tr>\n",
              "      <th>Abatacept</th>\n",
              "      <td>1</td>\n",
              "    </tr>\n",
              "    <tr>\n",
              "      <th>Abilify</th>\n",
              "      <td>36</td>\n",
              "    </tr>\n",
              "    <tr>\n",
              "      <th>Abreva</th>\n",
              "      <td>10</td>\n",
              "    </tr>\n",
              "    <tr>\n",
              "      <th>Acamprosate</th>\n",
              "      <td>11</td>\n",
              "    </tr>\n",
              "    <tr>\n",
              "      <th>...</th>\n",
              "      <td>...</td>\n",
              "    </tr>\n",
              "    <tr>\n",
              "      <th>Zyrtec-D</th>\n",
              "      <td>1</td>\n",
              "    </tr>\n",
              "    <tr>\n",
              "      <th>Zytiga</th>\n",
              "      <td>2</td>\n",
              "    </tr>\n",
              "    <tr>\n",
              "      <th>Zyvox</th>\n",
              "      <td>2</td>\n",
              "    </tr>\n",
              "    <tr>\n",
              "      <th>ella</th>\n",
              "      <td>6</td>\n",
              "    </tr>\n",
              "    <tr>\n",
              "      <th>femhrt</th>\n",
              "      <td>2</td>\n",
              "    </tr>\n",
              "  </tbody>\n",
              "</table>\n",
              "<p>1755 rows × 1 columns</p>\n",
              "</div><br><label><b>dtype:</b> int64</label>"
            ],
            "text/plain": [
              "drugName\n",
              "Abacavir / dolutegravir / lamivudine     7\n",
              "Abatacept                                1\n",
              "Abilify                                 36\n",
              "Abreva                                  10\n",
              "Acamprosate                             11\n",
              "                                        ..\n",
              "Zyrtec-D                                 1\n",
              "Zytiga                                   2\n",
              "Zyvox                                    2\n",
              "ella                                     6\n",
              "femhrt                                   2\n",
              "Name: drugName, Length: 1755, dtype: int64"
            ]
          },
          "execution_count": 24,
          "metadata": {},
          "output_type": "execute_result"
        }
      ],
      "source": [
        "obat.groupby('drugName')['drugName'].agg('count')"
      ]
    },
    {
      "cell_type": "code",
      "execution_count": 25,
      "metadata": {
        "colab": {
          "base_uri": "https://localhost:8080/",
          "height": 489
        },
        "id": "Bxs-9cZ978JO",
        "outputId": "fc7be6fc-8f9d-4726-9161-ebda585dc32d"
      },
      "outputs": [
        {
          "data": {
            "text/html": [
              "<div>\n",
              "<style scoped>\n",
              "    .dataframe tbody tr th:only-of-type {\n",
              "        vertical-align: middle;\n",
              "    }\n",
              "\n",
              "    .dataframe tbody tr th {\n",
              "        vertical-align: top;\n",
              "    }\n",
              "\n",
              "    .dataframe thead th {\n",
              "        text-align: right;\n",
              "    }\n",
              "</style>\n",
              "<table border=\"1\" class=\"dataframe\">\n",
              "  <thead>\n",
              "    <tr style=\"text-align: right;\">\n",
              "      <th></th>\n",
              "      <th>condition</th>\n",
              "    </tr>\n",
              "    <tr>\n",
              "      <th>condition</th>\n",
              "      <th></th>\n",
              "    </tr>\n",
              "  </thead>\n",
              "  <tbody>\n",
              "    <tr>\n",
              "      <th>0&lt;/span&gt; users found this comment helpful.</th>\n",
              "      <td>3</td>\n",
              "    </tr>\n",
              "    <tr>\n",
              "      <th>12&lt;/span&gt; users found this comment helpful.</th>\n",
              "      <td>3</td>\n",
              "    </tr>\n",
              "    <tr>\n",
              "      <th>14&lt;/span&gt; users found this comment helpful.</th>\n",
              "      <td>2</td>\n",
              "    </tr>\n",
              "    <tr>\n",
              "      <th>16&lt;/span&gt; users found this comment helpful.</th>\n",
              "      <td>1</td>\n",
              "    </tr>\n",
              "    <tr>\n",
              "      <th>1&lt;/span&gt; users found this comment helpful.</th>\n",
              "      <td>7</td>\n",
              "    </tr>\n",
              "    <tr>\n",
              "      <th>...</th>\n",
              "      <td>...</td>\n",
              "    </tr>\n",
              "    <tr>\n",
              "      <th>min)</th>\n",
              "      <td>7</td>\n",
              "    </tr>\n",
              "    <tr>\n",
              "      <th>moterol / mometasone)</th>\n",
              "      <td>3</td>\n",
              "    </tr>\n",
              "    <tr>\n",
              "      <th>moterol)</th>\n",
              "      <td>11</td>\n",
              "    </tr>\n",
              "    <tr>\n",
              "      <th>von Willebrand's Disease</th>\n",
              "      <td>1</td>\n",
              "    </tr>\n",
              "    <tr>\n",
              "      <th>zen Shoulde</th>\n",
              "      <td>3</td>\n",
              "    </tr>\n",
              "  </tbody>\n",
              "</table>\n",
              "<p>506 rows × 1 columns</p>\n",
              "</div><br><label><b>dtype:</b> int64</label>"
            ],
            "text/plain": [
              "condition\n",
              "0</span> users found this comment helpful.      3\n",
              "12</span> users found this comment helpful.     3\n",
              "14</span> users found this comment helpful.     2\n",
              "16</span> users found this comment helpful.     1\n",
              "1</span> users found this comment helpful.      7\n",
              "                                               ..\n",
              "min)                                            7\n",
              "moterol / mometasone)                           3\n",
              "moterol)                                       11\n",
              "von Willebrand's Disease                        1\n",
              "zen Shoulde                                     3\n",
              "Name: condition, Length: 506, dtype: int64"
            ]
          },
          "execution_count": 25,
          "metadata": {},
          "output_type": "execute_result"
        }
      ],
      "source": [
        "obat.groupby('condition')['condition'].agg('count')"
      ]
    },
    {
      "cell_type": "code",
      "execution_count": 26,
      "metadata": {
        "colab": {
          "base_uri": "https://localhost:8080/",
          "height": 429
        },
        "id": "RwQRKTepnpWD",
        "outputId": "554db905-56a6-4597-8171-d4bccf843de9"
      },
      "outputs": [
        {
          "data": {
            "text/html": [
              "<div>\n",
              "<style scoped>\n",
              "    .dataframe tbody tr th:only-of-type {\n",
              "        vertical-align: middle;\n",
              "    }\n",
              "\n",
              "    .dataframe tbody tr th {\n",
              "        vertical-align: top;\n",
              "    }\n",
              "\n",
              "    .dataframe thead th {\n",
              "        text-align: right;\n",
              "    }\n",
              "</style>\n",
              "<table border=\"1\" class=\"dataframe\">\n",
              "  <thead>\n",
              "    <tr style=\"text-align: right;\">\n",
              "      <th></th>\n",
              "      <th>rating</th>\n",
              "    </tr>\n",
              "    <tr>\n",
              "      <th>rating</th>\n",
              "      <th></th>\n",
              "    </tr>\n",
              "  </thead>\n",
              "  <tbody>\n",
              "    <tr>\n",
              "      <th>1</th>\n",
              "      <td>2057</td>\n",
              "    </tr>\n",
              "    <tr>\n",
              "      <th>2</th>\n",
              "      <td>629</td>\n",
              "    </tr>\n",
              "    <tr>\n",
              "      <th>3</th>\n",
              "      <td>622</td>\n",
              "    </tr>\n",
              "    <tr>\n",
              "      <th>4</th>\n",
              "      <td>458</td>\n",
              "    </tr>\n",
              "    <tr>\n",
              "      <th>5</th>\n",
              "      <td>758</td>\n",
              "    </tr>\n",
              "    <tr>\n",
              "      <th>6</th>\n",
              "      <td>599</td>\n",
              "    </tr>\n",
              "    <tr>\n",
              "      <th>7</th>\n",
              "      <td>880</td>\n",
              "    </tr>\n",
              "    <tr>\n",
              "      <th>8</th>\n",
              "      <td>1695</td>\n",
              "    </tr>\n",
              "    <tr>\n",
              "      <th>9</th>\n",
              "      <td>2495</td>\n",
              "    </tr>\n",
              "    <tr>\n",
              "      <th>10</th>\n",
              "      <td>4726</td>\n",
              "    </tr>\n",
              "  </tbody>\n",
              "</table>\n",
              "</div><br><label><b>dtype:</b> int64</label>"
            ],
            "text/plain": [
              "rating\n",
              "1     2057\n",
              "2      629\n",
              "3      622\n",
              "4      458\n",
              "5      758\n",
              "6      599\n",
              "7      880\n",
              "8     1695\n",
              "9     2495\n",
              "10    4726\n",
              "Name: rating, dtype: int64"
            ]
          },
          "execution_count": 26,
          "metadata": {},
          "output_type": "execute_result"
        }
      ],
      "source": [
        "obat.groupby('rating')['rating'].agg('count')"
      ]
    },
    {
      "cell_type": "code",
      "execution_count": 27,
      "metadata": {
        "id": "zebEAR7elxh8"
      },
      "outputs": [],
      "source": [
        "# Gabungkan kolom drugName, condition, dan review menjadi satu kolom untuk content-based filtering\n",
        "obat['content'] = obat['drugName'] + ' ' + obat['condition'] + ' ' + obat['review']"
      ]
    },
    {
      "cell_type": "markdown",
      "metadata": {
        "id": "49bHZWWhl2mM"
      },
      "source": [
        "penggabungan kolom (drugname, condition dan review) bertujuan untuk menghasilkan kolom baru berupa content yang akan dijadikan sebagai dasar analisis kemiripan antar obat"
      ]
    },
    {
      "cell_type": "code",
      "execution_count": 112,
      "metadata": {
        "colab": {
          "base_uri": "https://localhost:8080/"
        },
        "id": "tQ0e_J-fA4Af",
        "outputId": "595e567b-5dde-4032-b120-a4d7d361f503"
      },
      "outputs": [
        {
          "name": "stdout",
          "output_type": "stream",
          "text": [
            "Dimensi dari TF-IDF matrix: (14919, 20949)\n"
          ]
        }
      ],
      "source": [
        "# Menggunakan TF-IDF Vectorizer untuk mengonversi teks menjadi fitur numerik\n",
        "tfidf_vectorizer = TfidfVectorizer(stop_words='english')\n",
        "tfidf_matrix = tfidf_vectorizer.fit_transform(obat['content'])\n",
        "\n",
        "# Melihat dimensi dari TF-IDF matrix\n",
        "print(f'Dimensi dari TF-IDF matrix: {tfidf_matrix.shape}')"
      ]
    },
    {
      "cell_type": "markdown",
      "metadata": {
        "id": "FLuBTlY4mcOT"
      },
      "source": [
        "melakukan kompresi pada dimensi TF-IDF supaya pemodelan tidak terlalu berat untuk berjalan hal ini dapat menghidari terjadinya putus runtime pada saat modeling"
      ]
    },
    {
      "cell_type": "code",
      "execution_count": 113,
      "metadata": {
        "colab": {
          "base_uri": "https://localhost:8080/"
        },
        "id": "vxZbvmxaBF_z",
        "outputId": "f7d1510e-8875-469b-8504-95657d16b663"
      },
      "outputs": [
        {
          "name": "stdout",
          "output_type": "stream",
          "text": [
            "Dimensi setelah reduksi: (14919, 100)\n"
          ]
        }
      ],
      "source": [
        "from sklearn.decomposition import TruncatedSVD\n",
        "\n",
        "# Menggunakan TruncatedSVD untuk mengurangi dimensi TF-IDF matrix\n",
        "svd = TruncatedSVD(n_components=100, random_state=42)\n",
        "tfidf_matrix_reduced = svd.fit_transform(tfidf_matrix)\n",
        "\n",
        "# Melihat dimensi setelah reduksi\n",
        "print(f'Dimensi setelah reduksi: {tfidf_matrix_reduced.shape}')"
      ]
    },
    {
      "cell_type": "markdown",
      "metadata": {
        "id": "HfU_OF86nBz9"
      },
      "source": [
        "Todense digunakan untuk mengubah hasil transformasi TF-IDF dari bentuk sparse matrix (matriks jarang) menjadi dense matrix (matriks padat) yang lebih mudah dibaca dan dianalisis."
      ]
    },
    {
      "cell_type": "code",
      "execution_count": 114,
      "metadata": {
        "colab": {
          "base_uri": "https://localhost:8080/"
        },
        "id": "WHM5jaDOFcNm",
        "outputId": "b1a8d4a9-b0d2-4a6a-be86-8325a27b05c8"
      },
      "outputs": [
        {
          "data": {
            "text/plain": [
              "matrix([[0., 0., 0., ..., 0., 0., 0.],\n",
              "        [0., 0., 0., ..., 0., 0., 0.],\n",
              "        [0., 0., 0., ..., 0., 0., 0.],\n",
              "        ...,\n",
              "        [0., 0., 0., ..., 0., 0., 0.],\n",
              "        [0., 0., 0., ..., 0., 0., 0.],\n",
              "        [0., 0., 0., ..., 0., 0., 0.]])"
            ]
          },
          "execution_count": 114,
          "metadata": {},
          "output_type": "execute_result"
        }
      ],
      "source": [
        "# Mengubah vektor tf-idf dalam bentuk matriks dengan fungsi todense()\n",
        "tfidf_matrix.todense()"
      ]
    },
    {
      "cell_type": "markdown",
      "metadata": {
        "id": "jhAzVdbjBChy"
      },
      "source": [
        "# **Content Based Filtering Model & Result**\n",
        "Content-Based Filtering adalah metode sistem rekomendasi yang menyarankan item (misalnya obat, film, buku) kepada pengguna berdasarkan kemiripan fitur antara item yang disukai dengan item lainnya."
      ]
    },
    {
      "cell_type": "markdown",
      "metadata": {
        "id": "uXCcqWx3nTKk"
      },
      "source": [
        " Cosine similarity bertujuan untuk menghitung tingkat kemiripan antar obat berdasarkan teks review atau deskripsi yang telah diolah menggunakan TF-IDF (Term Frequency-Inverse Document Frequency) dan telah direduksi dimensinya menggunakan teknik seperti SVD (Singular Value Decomposition) atau lainnya."
      ]
    },
    {
      "cell_type": "code",
      "execution_count": 115,
      "metadata": {
        "colab": {
          "base_uri": "https://localhost:8080/"
        },
        "id": "yVKt9MWXFiU6",
        "outputId": "ae411649-7d79-44bf-8471-6b3727d7746e"
      },
      "outputs": [
        {
          "name": "stdout",
          "output_type": "stream",
          "text": [
            "[[ 1.          0.06060676  0.0449911  -0.03730974 -0.01014694]\n",
            " [ 0.06060676  1.          0.00853605  0.11066898  0.12130117]\n",
            " [ 0.0449911   0.00853605  1.         -0.00779533  0.10033835]\n",
            " [-0.03730974  0.11066898 -0.00779533  1.          0.072954  ]\n",
            " [-0.01014694  0.12130117  0.10033835  0.072954    1.        ]]\n"
          ]
        }
      ],
      "source": [
        "# Menghitung cosine similarity antara obat berdasarkan TF-IDF matrix yang telah direduksi\n",
        "cosine_sim = cosine_similarity(tfidf_matrix_reduced, tfidf_matrix_reduced)\n",
        "\n",
        "# Menampilkan sebagian dari cosine similarity matrix untuk melihat hasilnya\n",
        "print(cosine_sim[:5, :5])  # Menampilkan skor kesamaan untuk 5 obat pertama\n"
      ]
    },
    {
      "cell_type": "markdown",
      "metadata": {
        "id": "FSuXgvhPnuhS"
      },
      "source": [
        "**recommend_drugs(drug_name, cosine_sim=cosine_sim)**\n",
        "Fungsi ini bertujuan untuk memberikan rekomendasi obat berdasarkan kemiripan (similarity) kontennya, menggunakan pendekatan Content-Based Filtering. Model ini menggunakan nilai cosine similarity antara vektor representasi obat-obat dalam dataset."
      ]
    },
    {
      "cell_type": "code",
      "execution_count": 131,
      "metadata": {
        "id": "dxQYfwyUFt3D"
      },
      "outputs": [],
      "source": [
        "def recommend_drugs(drug_name, cosine_sim, obat, k=5):\n",
        "    \"\"\"\n",
        "    Memberikan rekomendasi obat berdasarkan kesamaan ulasan dan relevansi kondisi.\n",
        "\n",
        "    Parameters:\n",
        "    - drug_name: Nama obat yang dicari\n",
        "    - cosine_sim: Matriks cosine similarity\n",
        "    - obat: DataFrame berisi data obat\n",
        "    - k: Jumlah rekomendasi yang diinginkan\n",
        "\n",
        "    Returns:\n",
        "    - recommended: DataFrame berisi rekomendasi obat\n",
        "    \"\"\"\n",
        "    obat = obat.reset_index(drop=True)\n",
        "\n",
        "    if drug_name not in obat['drugName'].values:\n",
        "        print(f\"Obat '{drug_name}' tidak ditemukan dalam dataset.\")\n",
        "        return None\n",
        "\n",
        "    idx = obat[obat['drugName'] == drug_name].index[0]\n",
        "    target_condition = obat.loc[idx, 'condition']\n",
        "\n",
        "    sim_scores = list(enumerate(cosine_sim[idx]))\n",
        "    sim_scores = sorted(sim_scores, key=lambda x: x[1], reverse=True)\n",
        "    sim_scores = [score for score in sim_scores if score[0] != idx]\n",
        "\n",
        "    rekomendasi = []\n",
        "    for i, sim in sim_scores:\n",
        "        if i in obat.index and obat.loc[i, 'condition'] == target_condition:\n",
        "            rekomendasi.append(i)\n",
        "        if len(rekomendasi) == k:\n",
        "            break\n",
        "\n",
        "    if not rekomendasi:\n",
        "        print(f\"Tidak ditemukan obat dengan kondisi '{target_condition}' yang mirip.\")\n",
        "        return None\n",
        "\n",
        "    recommended = obat.loc[rekomendasi, ['uniqueID', 'drugName', 'condition', 'rating']]\n",
        "    print(f\"\\nRekomendasi obat mirip dengan '{drug_name}' untuk kondisi '{target_condition}':\")\n",
        "    print(recommended)\n",
        "\n",
        "    return recommended\n"
      ]
    },
    {
      "cell_type": "markdown",
      "metadata": {
        "id": "oxLFWXfvoDgq"
      },
      "source": [
        "Kode dibawah ini digunakan untuk menyaring data dari DataFrame obat dengan tujuan menampilkan semua baris yang berisi nama obat **'Anafranil'**."
      ]
    },
    {
      "cell_type": "code",
      "execution_count": 137,
      "metadata": {
        "colab": {
          "base_uri": "https://localhost:8080/",
          "height": 98
        },
        "id": "pPNxNz0kGFLI",
        "outputId": "5fbd9fff-ea81-415c-9f45-1de47791a9f7"
      },
      "outputs": [
        {
          "data": {
            "application/vnd.google.colaboratory.intrinsic+json": {
              "repr_error": "0",
              "type": "dataframe"
            },
            "text/html": [
              "\n",
              "  <div id=\"df-d6ec3cb5-249b-4e50-8244-d5be2989f62f\" class=\"colab-df-container\">\n",
              "    <div>\n",
              "<style scoped>\n",
              "    .dataframe tbody tr th:only-of-type {\n",
              "        vertical-align: middle;\n",
              "    }\n",
              "\n",
              "    .dataframe tbody tr th {\n",
              "        vertical-align: top;\n",
              "    }\n",
              "\n",
              "    .dataframe thead th {\n",
              "        text-align: right;\n",
              "    }\n",
              "</style>\n",
              "<table border=\"1\" class=\"dataframe\">\n",
              "  <thead>\n",
              "    <tr style=\"text-align: right;\">\n",
              "      <th></th>\n",
              "      <th>uniqueID</th>\n",
              "      <th>drugName</th>\n",
              "      <th>condition</th>\n",
              "      <th>review</th>\n",
              "      <th>rating</th>\n",
              "      <th>date</th>\n",
              "      <th>usefulCount</th>\n",
              "      <th>content</th>\n",
              "    </tr>\n",
              "  </thead>\n",
              "  <tbody>\n",
              "    <tr>\n",
              "      <th>681</th>\n",
              "      <td>118023</td>\n",
              "      <td>Anafranil</td>\n",
              "      <td>Obsessive Compulsive Disorde</td>\n",
              "      <td>I have suffered from obsessive thoughts for 26...</td>\n",
              "      <td>9</td>\n",
              "      <td>9-Feb-14</td>\n",
              "      <td>172</td>\n",
              "      <td>Anafranil Obsessive Compulsive Disorde I have ...</td>\n",
              "    </tr>\n",
              "  </tbody>\n",
              "</table>\n",
              "</div>\n",
              "    <div class=\"colab-df-buttons\">\n",
              "\n",
              "  <div class=\"colab-df-container\">\n",
              "    <button class=\"colab-df-convert\" onclick=\"convertToInteractive('df-d6ec3cb5-249b-4e50-8244-d5be2989f62f')\"\n",
              "            title=\"Convert this dataframe to an interactive table.\"\n",
              "            style=\"display:none;\">\n",
              "\n",
              "  <svg xmlns=\"http://www.w3.org/2000/svg\" height=\"24px\" viewBox=\"0 -960 960 960\">\n",
              "    <path d=\"M120-120v-720h720v720H120Zm60-500h600v-160H180v160Zm220 220h160v-160H400v160Zm0 220h160v-160H400v160ZM180-400h160v-160H180v160Zm440 0h160v-160H620v160ZM180-180h160v-160H180v160Zm440 0h160v-160H620v160Z\"/>\n",
              "  </svg>\n",
              "    </button>\n",
              "\n",
              "  <style>\n",
              "    .colab-df-container {\n",
              "      display:flex;\n",
              "      gap: 12px;\n",
              "    }\n",
              "\n",
              "    .colab-df-convert {\n",
              "      background-color: #E8F0FE;\n",
              "      border: none;\n",
              "      border-radius: 50%;\n",
              "      cursor: pointer;\n",
              "      display: none;\n",
              "      fill: #1967D2;\n",
              "      height: 32px;\n",
              "      padding: 0 0 0 0;\n",
              "      width: 32px;\n",
              "    }\n",
              "\n",
              "    .colab-df-convert:hover {\n",
              "      background-color: #E2EBFA;\n",
              "      box-shadow: 0px 1px 2px rgba(60, 64, 67, 0.3), 0px 1px 3px 1px rgba(60, 64, 67, 0.15);\n",
              "      fill: #174EA6;\n",
              "    }\n",
              "\n",
              "    .colab-df-buttons div {\n",
              "      margin-bottom: 4px;\n",
              "    }\n",
              "\n",
              "    [theme=dark] .colab-df-convert {\n",
              "      background-color: #3B4455;\n",
              "      fill: #D2E3FC;\n",
              "    }\n",
              "\n",
              "    [theme=dark] .colab-df-convert:hover {\n",
              "      background-color: #434B5C;\n",
              "      box-shadow: 0px 1px 3px 1px rgba(0, 0, 0, 0.15);\n",
              "      filter: drop-shadow(0px 1px 2px rgba(0, 0, 0, 0.3));\n",
              "      fill: #FFFFFF;\n",
              "    }\n",
              "  </style>\n",
              "\n",
              "    <script>\n",
              "      const buttonEl =\n",
              "        document.querySelector('#df-d6ec3cb5-249b-4e50-8244-d5be2989f62f button.colab-df-convert');\n",
              "      buttonEl.style.display =\n",
              "        google.colab.kernel.accessAllowed ? 'block' : 'none';\n",
              "\n",
              "      async function convertToInteractive(key) {\n",
              "        const element = document.querySelector('#df-d6ec3cb5-249b-4e50-8244-d5be2989f62f');\n",
              "        const dataTable =\n",
              "          await google.colab.kernel.invokeFunction('convertToInteractive',\n",
              "                                                    [key], {});\n",
              "        if (!dataTable) return;\n",
              "\n",
              "        const docLinkHtml = 'Like what you see? Visit the ' +\n",
              "          '<a target=\"_blank\" href=https://colab.research.google.com/notebooks/data_table.ipynb>data table notebook</a>'\n",
              "          + ' to learn more about interactive tables.';\n",
              "        element.innerHTML = '';\n",
              "        dataTable['output_type'] = 'display_data';\n",
              "        await google.colab.output.renderOutput(dataTable, element);\n",
              "        const docLink = document.createElement('div');\n",
              "        docLink.innerHTML = docLinkHtml;\n",
              "        element.appendChild(docLink);\n",
              "      }\n",
              "    </script>\n",
              "  </div>\n",
              "\n",
              "\n",
              "    </div>\n",
              "  </div>\n"
            ],
            "text/plain": [
              "     uniqueID   drugName                     condition  \\\n",
              "681    118023  Anafranil  Obsessive Compulsive Disorde   \n",
              "\n",
              "                                                review  rating      date  \\\n",
              "681  I have suffered from obsessive thoughts for 26...       9  9-Feb-14   \n",
              "\n",
              "     usefulCount                                            content  \n",
              "681          172  Anafranil Obsessive Compulsive Disorde I have ...  "
            ]
          },
          "execution_count": 137,
          "metadata": {},
          "output_type": "execute_result"
        }
      ],
      "source": [
        "obat[obat.drugName.eq('Anafranil'\n",
        ")]"
      ]
    },
    {
      "cell_type": "code",
      "execution_count": 138,
      "metadata": {
        "colab": {
          "base_uri": "https://localhost:8080/"
        },
        "id": "A_6i9jJ3GFD0",
        "outputId": "9d41fdfc-6237-4286-b61d-89b391171582"
      },
      "outputs": [
        {
          "name": "stdout",
          "output_type": "stream",
          "text": [
            "\n",
            "Rekomendasi obat mirip dengan 'Anafranil' untuk kondisi 'Obsessive Compulsive Disorde':\n",
            "       uniqueID      drugName                     condition  rating\n",
            "2946     182135  Clomipramine  Obsessive Compulsive Disorde       9\n",
            "10691    179290    Olanzapine  Obsessive Compulsive Disorde       7\n",
            "5586      45719    Fluoxetine  Obsessive Compulsive Disorde       8\n",
            "6690      55875       Effexor  Obsessive Compulsive Disorde      10\n",
            "5637     182148  Clomipramine  Obsessive Compulsive Disorde       9\n"
          ]
        }
      ],
      "source": [
        "rekomendasi = recommend_drugs('Anafranil', cosine_sim, obat, k=5)"
      ]
    },
    {
      "cell_type": "markdown",
      "metadata": {
        "id": "NtYxuyfKVOD5"
      },
      "source": [
        "# **Precision@K**\n",
        "\n",
        "precision mengukur seberapa banyak dari obat-obat yang direkomendasikan oleh sistem benar-benar relevan atau bermanfaat bagi pengguna. Nilai precision yang tinggi menunjukkan bahwa sebagian besar rekomendasi sistem memang sesuai dan berguna, sedangkan precision yang rendah mengindikasikan bahwa sistem memberikan banyak rekomendasi yang tidak relevan."
      ]
    },
    {
      "cell_type": "code",
      "execution_count": 139,
      "metadata": {
        "id": "1d0h3r2MSgiZ"
      },
      "outputs": [],
      "source": [
        "def calculate_precision_at_k(recommended_df, target_condition, rating_threshold=7):\n",
        "    \"\"\"\n",
        "    Menghitung Precision@K berdasarkan rekomendasi obat dan kondisi target.\n",
        "\n",
        "    Parameters:\n",
        "    - recommended_df: DataFrame hasil rekomendasi dari fungsi sebelumnya\n",
        "    - target_condition: Kondisi medis yang menjadi acuan relevansi\n",
        "    - rating_threshold: Rating minimum agar obat dianggap relevan\n",
        "\n",
        "    Returns:\n",
        "    - precision_at_k: nilai presisi\n",
        "    \"\"\"\n",
        "    if recommended_df is None or recommended_df.empty:\n",
        "        print(\"Data rekomendasi kosong.\")\n",
        "        return 0.0\n",
        "\n",
        "    total = len(recommended_df)\n",
        "    relevant = recommended_df[\n",
        "        (recommended_df['condition'] == target_condition) &\n",
        "        (recommended_df['rating'] >= rating_threshold)\n",
        "    ].shape[0]\n",
        "\n",
        "    precision = relevant / total if total > 0 else 0.0\n",
        "    print(f\"\\nPrecision@{total}: {precision:.3f} ({relevant}/{total} obat relevan)\")\n",
        "    return precision\n"
      ]
    },
    {
      "cell_type": "code",
      "execution_count": 140,
      "metadata": {
        "colab": {
          "base_uri": "https://localhost:8080/"
        },
        "id": "mTIxPmXiUwVd",
        "outputId": "43d1cb27-f848-4f3c-f41a-8a243fa9a016"
      },
      "outputs": [
        {
          "name": "stdout",
          "output_type": "stream",
          "text": [
            "\n",
            "Precision@5: 1.000 (5/5 obat relevan)\n"
          ]
        },
        {
          "data": {
            "text/plain": [
              "1.0"
            ]
          },
          "execution_count": 140,
          "metadata": {},
          "output_type": "execute_result"
        }
      ],
      "source": [
        "# Precision\n",
        "target_condition = obat[obat['drugName'] == 'Anafranil'].iloc[0]['condition']\n",
        "calculate_precision_at_k(rekomendasi, target_condition)"
      ]
    },
    {
      "cell_type": "code",
      "execution_count": null,
      "metadata": {
        "id": "t2ih1HUWUz65"
      },
      "outputs": [],
      "source": []
    }
  ],
  "metadata": {
    "colab": {
      "provenance": []
    },
    "kernelspec": {
      "display_name": "Python 3",
      "name": "python3"
    },
    "language_info": {
      "name": "python"
    }
  },
  "nbformat": 4,
  "nbformat_minor": 0
}
